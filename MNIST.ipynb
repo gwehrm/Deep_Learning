{
 "cells": [
  {
   "cell_type": "markdown",
   "metadata": {},
   "source": [
    "# MNIST dataset"
   ]
  },
  {
   "cell_type": "markdown",
   "metadata": {},
   "source": [
    "The Notebook is split in three parts:\n",
    "* Data Preparation\n",
    "* Model Building\n",
    "* Evaluation"
   ]
  },
  {
   "cell_type": "markdown",
   "metadata": {},
   "source": [
    "## Data Preparation"
   ]
  },
  {
   "cell_type": "code",
   "execution_count": 1,
   "metadata": {},
   "outputs": [
    {
     "name": "stderr",
     "output_type": "stream",
     "text": [
      "C:\\ProgramData\\Anaconda3\\lib\\site-packages\\h5py\\__init__.py:36: FutureWarning: Conversion of the second argument of issubdtype from `float` to `np.floating` is deprecated. In future, it will be treated as `np.float64 == np.dtype(float).type`.\n",
      "  from ._conv import register_converters as _register_converters\n",
      "Using TensorFlow backend.\n",
      "C:\\Users\\gwehrm\\AppData\\Roaming\\Python\\Python36\\site-packages\\tensorflow\\python\\framework\\dtypes.py:516: FutureWarning: Passing (type, 1) or '1type' as a synonym of type is deprecated; in a future version of numpy, it will be understood as (type, (1,)) / '(1,)type'.\n",
      "  _np_qint8 = np.dtype([(\"qint8\", np.int8, 1)])\n",
      "C:\\Users\\gwehrm\\AppData\\Roaming\\Python\\Python36\\site-packages\\tensorflow\\python\\framework\\dtypes.py:517: FutureWarning: Passing (type, 1) or '1type' as a synonym of type is deprecated; in a future version of numpy, it will be understood as (type, (1,)) / '(1,)type'.\n",
      "  _np_quint8 = np.dtype([(\"quint8\", np.uint8, 1)])\n",
      "C:\\Users\\gwehrm\\AppData\\Roaming\\Python\\Python36\\site-packages\\tensorflow\\python\\framework\\dtypes.py:518: FutureWarning: Passing (type, 1) or '1type' as a synonym of type is deprecated; in a future version of numpy, it will be understood as (type, (1,)) / '(1,)type'.\n",
      "  _np_qint16 = np.dtype([(\"qint16\", np.int16, 1)])\n",
      "C:\\Users\\gwehrm\\AppData\\Roaming\\Python\\Python36\\site-packages\\tensorflow\\python\\framework\\dtypes.py:519: FutureWarning: Passing (type, 1) or '1type' as a synonym of type is deprecated; in a future version of numpy, it will be understood as (type, (1,)) / '(1,)type'.\n",
      "  _np_quint16 = np.dtype([(\"quint16\", np.uint16, 1)])\n",
      "C:\\Users\\gwehrm\\AppData\\Roaming\\Python\\Python36\\site-packages\\tensorflow\\python\\framework\\dtypes.py:520: FutureWarning: Passing (type, 1) or '1type' as a synonym of type is deprecated; in a future version of numpy, it will be understood as (type, (1,)) / '(1,)type'.\n",
      "  _np_qint32 = np.dtype([(\"qint32\", np.int32, 1)])\n",
      "C:\\Users\\gwehrm\\AppData\\Roaming\\Python\\Python36\\site-packages\\tensorflow\\python\\framework\\dtypes.py:525: FutureWarning: Passing (type, 1) or '1type' as a synonym of type is deprecated; in a future version of numpy, it will be understood as (type, (1,)) / '(1,)type'.\n",
      "  np_resource = np.dtype([(\"resource\", np.ubyte, 1)])\n",
      "C:\\Users\\gwehrm\\AppData\\Roaming\\Python\\Python36\\site-packages\\tensorboard\\compat\\tensorflow_stub\\dtypes.py:541: FutureWarning: Passing (type, 1) or '1type' as a synonym of type is deprecated; in a future version of numpy, it will be understood as (type, (1,)) / '(1,)type'.\n",
      "  _np_qint8 = np.dtype([(\"qint8\", np.int8, 1)])\n",
      "C:\\Users\\gwehrm\\AppData\\Roaming\\Python\\Python36\\site-packages\\tensorboard\\compat\\tensorflow_stub\\dtypes.py:542: FutureWarning: Passing (type, 1) or '1type' as a synonym of type is deprecated; in a future version of numpy, it will be understood as (type, (1,)) / '(1,)type'.\n",
      "  _np_quint8 = np.dtype([(\"quint8\", np.uint8, 1)])\n",
      "C:\\Users\\gwehrm\\AppData\\Roaming\\Python\\Python36\\site-packages\\tensorboard\\compat\\tensorflow_stub\\dtypes.py:543: FutureWarning: Passing (type, 1) or '1type' as a synonym of type is deprecated; in a future version of numpy, it will be understood as (type, (1,)) / '(1,)type'.\n",
      "  _np_qint16 = np.dtype([(\"qint16\", np.int16, 1)])\n",
      "C:\\Users\\gwehrm\\AppData\\Roaming\\Python\\Python36\\site-packages\\tensorboard\\compat\\tensorflow_stub\\dtypes.py:544: FutureWarning: Passing (type, 1) or '1type' as a synonym of type is deprecated; in a future version of numpy, it will be understood as (type, (1,)) / '(1,)type'.\n",
      "  _np_quint16 = np.dtype([(\"quint16\", np.uint16, 1)])\n",
      "C:\\Users\\gwehrm\\AppData\\Roaming\\Python\\Python36\\site-packages\\tensorboard\\compat\\tensorflow_stub\\dtypes.py:545: FutureWarning: Passing (type, 1) or '1type' as a synonym of type is deprecated; in a future version of numpy, it will be understood as (type, (1,)) / '(1,)type'.\n",
      "  _np_qint32 = np.dtype([(\"qint32\", np.int32, 1)])\n",
      "C:\\Users\\gwehrm\\AppData\\Roaming\\Python\\Python36\\site-packages\\tensorboard\\compat\\tensorflow_stub\\dtypes.py:550: FutureWarning: Passing (type, 1) or '1type' as a synonym of type is deprecated; in a future version of numpy, it will be understood as (type, (1,)) / '(1,)type'.\n",
      "  np_resource = np.dtype([(\"resource\", np.ubyte, 1)])\n"
     ]
    }
   ],
   "source": [
    "# libraries\n",
    "import pandas as pd\n",
    "import numpy as np\n",
    "import matplotlib.pyplot as plt\n",
    "from sklearn import preprocessing\n",
    "from sklearn.model_selection import StratifiedShuffleSplit\n",
    "from keras.preprocessing.image import ImageDataGenerator\n",
    "%matplotlib inline"
   ]
  },
  {
   "cell_type": "code",
   "execution_count": 2,
   "metadata": {},
   "outputs": [],
   "source": [
    "# load the data\n",
    "train = pd.read_csv(\"./Data/train.csv\")\n",
    "test  = pd.read_csv(\"./Data/test.csv\")"
   ]
  },
  {
   "cell_type": "code",
   "execution_count": 3,
   "metadata": {},
   "outputs": [
    {
     "data": {
      "text/plain": [
       "(42000, 785)"
      ]
     },
     "metadata": {},
     "output_type": "display_data"
    },
    {
     "data": {
      "text/plain": [
       "(28000, 784)"
      ]
     },
     "metadata": {},
     "output_type": "display_data"
    }
   ],
   "source": [
    "display(train.shape)\n",
    "display(test.shape)\n",
    "# 42000 different training observations with 784 pixel values and label in the first column\n",
    "# the pixel valies need to be rearranged to 28*28"
   ]
  },
  {
   "cell_type": "code",
   "execution_count": 4,
   "metadata": {},
   "outputs": [],
   "source": [
    "# label\n",
    "y_train = train[\"label\"]\n",
    "\n",
    "# predictors\n",
    "x_train = train.drop(columns = 'label')\n",
    "x_test = test\n",
    "# del old df\n",
    "del train"
   ]
  },
  {
   "cell_type": "markdown",
   "metadata": {},
   "source": [
    "In training the NN, scaling data is important. The pixel intensities of images are in the range of [0, 255], which makes the neural network difficult to learn."
   ]
  },
  {
   "cell_type": "code",
   "execution_count": 5,
   "metadata": {},
   "outputs": [],
   "source": [
    "x_train = x_train/255\n",
    "x_test = x_test/255"
   ]
  },
  {
   "cell_type": "code",
   "execution_count": 6,
   "metadata": {},
   "outputs": [
    {
     "data": {
      "text/plain": [
       "(42000, 28, 28, 1)"
      ]
     },
     "metadata": {},
     "output_type": "display_data"
    }
   ],
   "source": [
    "x_train = x_train.values.reshape(42000,28,28,1)\n",
    "x_test = test.values.reshape(28000,28,28,1)\n",
    "display(x_train.shape)"
   ]
  },
  {
   "cell_type": "code",
   "execution_count": 7,
   "metadata": {
    "scrolled": true
   },
   "outputs": [
    {
     "data": {
      "image/png": "[encoded data removed]",
      "text/plain": [
       "<Figure size 720x720 with 100 Axes>"
      ]
     },
     "metadata": {},
     "output_type": "display_data"
    }
   ],
   "source": [
    "# show some random digits for each label\n",
    "\n",
    "def display_images(images, shape):\n",
    "    fig = plt.figure(figsize=shape)\n",
    "    fig.subplots_adjust(left=0, right=1, bottom=0, top=1, hspace=0.05, wspace=0.05)\n",
    "    for i in range(np.prod(shape)):\n",
    "        p = fig.add_subplot(shape[0], shape[1], i+1, xticks=[], yticks=[])\n",
    "        p.imshow(images[i], cmap=plt.cm.bone)           \n",
    "        \n",
    "        \n",
    "# get unique labels\n",
    "unique_labels = np.unique(y_train)\n",
    "\n",
    "# get the index/label for them\n",
    "images = []\n",
    "for l in unique_labels:    \n",
    "    idx = np.where(y_train == l)[0]\n",
    "    idx = idx[np.random.permutation(len(idx))[:10]] \n",
    "    for i in idx:\n",
    "        images += [x_train[i].reshape(28,28)]\n",
    "\n",
    "display_images(images,shape=(10, 10))"
   ]
  },
  {
   "cell_type": "code",
   "execution_count": 8,
   "metadata": {},
   "outputs": [],
   "source": [
    "# the labels are integers - therefore, the keras function to_categorical can be used to encode it\n",
    "from keras.utils import to_categorical\n",
    "\n",
    "# transformation:\n",
    "def ohe(labs):\n",
    "    ohe_labs = to_categorical(labs)\n",
    "    return ohe_labs\n",
    "y_train = ohe(y_train)"
   ]
  },
  {
   "cell_type": "code",
   "execution_count": 9,
   "metadata": {},
   "outputs": [
    {
     "name": "stdout",
     "output_type": "stream",
     "text": [
      "29400 12600\n"
     ]
    }
   ],
   "source": [
    "# prepare for splitting 0.3 - split the train data in another train and validation set\n",
    "ss = StratifiedShuffleSplit(n_splits=1, test_size=.3, random_state=1)\n",
    "\n",
    "#split and get train/val\n",
    "ss.get_n_splits(x_train, y_train)\n",
    "for train_index, val_index in ss.split(x_train, y_train):\n",
    "    x_train, x_val = x_train[train_index], x_train[val_index]\n",
    "    y_train, y_val = y_train[train_index], y_train[val_index]\n",
    "    print(len(y_train),len(y_val))"
   ]
  },
  {
   "cell_type": "markdown",
   "metadata": {},
   "source": [
    "## Model Building"
   ]
  },
  {
   "cell_type": "code",
   "execution_count": 10,
   "metadata": {},
   "outputs": [],
   "source": [
    "# Import the necessary components from Keras\n",
    "from keras.models import Sequential\n",
    "from keras.layers import Dense, Conv2D, Flatten, Dropout, MaxPool2D, BatchNormalization\n",
    "\n",
    "# Initialize the model object\n",
    "model = Sequential()\n",
    "\n",
    "# # Add a convolutional layer\n",
    "# model.add(Conv2D(20, kernel_size=3, activation='relu', \n",
    "#                input_shape=(28,28,1),\n",
    "#                 padding = \"same\"))\n",
    "\n",
    "# model.add(Dropout(0.1))\n",
    "\n",
    "# model.add(Conv2D(15, kernel_size=6, activation='relu'))\n",
    "\n",
    "# model.add(Dropout(0.1))\n",
    "\n",
    "# model.add(Conv2D(10, kernel_size=9, activation='relu'))\n",
    "\n",
    "# # model.add(Conv2D(10, kernel_size=12, activation='relu'))\n",
    "\n",
    "# model.add(Conv2D(32,kernel_size=5,activation='relu',input_shape=(28,28,1)))\n",
    "# model.add(Dropout(0.4))\n",
    "# model.add(MaxPool2D())\n",
    "# model.add(Conv2D(64,kernel_size=5,activation='relu'))\n",
    "# model.add(Dropout(0.4))\n",
    "# model.add(MaxPool2D())\n",
    "# model.add(Flatten())\n",
    "# model.add(Dense(512, activation='relu'))\n",
    "# model.add(Dense(10, activation='softmax'))\n",
    "\n",
    "\n",
    "\n",
    "\n",
    "model.add(Conv2D(32,kernel_size=3,activation='relu',input_shape=(28,28,1)))\n",
    "model.add(BatchNormalization())\n",
    "model.add(Conv2D(32,kernel_size=3,activation='relu'))\n",
    "model.add(BatchNormalization())\n",
    "model.add(Conv2D(32,kernel_size=5,strides=2,padding='same',activation='relu'))\n",
    "model.add(BatchNormalization())\n",
    "model.add(Dropout(0.4))\n",
    "\n",
    "model.add(Conv2D(64,kernel_size=3,activation='relu'))\n",
    "model.add(BatchNormalization())\n",
    "model.add(Conv2D(64,kernel_size=3,activation='relu'))\n",
    "model.add(BatchNormalization())\n",
    "model.add(Conv2D(64,kernel_size=5,strides=2,padding='same',activation='relu'))\n",
    "model.add(BatchNormalization())\n",
    "model.add(Dropout(0.4))\n",
    "\n",
    "model.add(Flatten())\n",
    "model.add(Dense(128, activation='relu'))\n",
    "model.add(BatchNormalization())\n",
    "model.add(Dropout(0.4))\n",
    "model.add(Dense(10, activation='softmax'))"
   ]
  },
  {
   "cell_type": "markdown",
   "metadata": {},
   "source": [
    "To increase the process, keras allows to modify the learning rate:\n",
    "    "
   ]
  },
  {
   "cell_type": "code",
   "execution_count": 13,
   "metadata": {},
   "outputs": [],
   "source": [
    "from keras.callbacks import LearningRateScheduler"
   ]
  },
  {
   "cell_type": "code",
   "execution_count": 20,
   "metadata": {},
   "outputs": [],
   "source": [
    "# Compile the model \n",
    "model.compile(optimizer=\"Adamax\", \n",
    "              loss=\"categorical_crossentropy\", \n",
    "              metrics=[\"accuracy\"])\n",
    "\n",
    "annealer = LearningRateScheduler(lambda x: 1e-3 * 0.9 ** x)"
   ]
  },
  {
   "cell_type": "markdown",
   "metadata": {},
   "source": [
    "## Data Augmentation:"
   ]
  },
  {
   "cell_type": "code",
   "execution_count": 15,
   "metadata": {
    "scrolled": true
   },
   "outputs": [],
   "source": [
    "datagen = ImageDataGenerator(\n",
    "        rotation_range=10,  \n",
    "        zoom_range = 0.10,  \n",
    "        width_shift_range=0.1, \n",
    "        height_shift_range=0.1)"
   ]
  },
  {
   "cell_type": "code",
   "execution_count": 21,
   "metadata": {},
   "outputs": [
    {
     "name": "stdout",
     "output_type": "stream",
     "text": [
      "Epoch 1/45\n",
      " - 67s - loss: 0.1054 - accuracy: 0.9686 - val_loss: 0.0316 - val_accuracy: 0.9900\n",
      "Epoch 2/45\n",
      " - 59s - loss: 0.0932 - accuracy: 0.9729 - val_loss: 0.0304 - val_accuracy: 0.9875\n",
      "Epoch 3/45\n",
      " - 67s - loss: 0.0748 - accuracy: 0.9770 - val_loss: 0.0234 - val_accuracy: 0.9900\n",
      "Epoch 4/45\n",
      " - 69s - loss: 0.0874 - accuracy: 0.9761 - val_loss: 0.0258 - val_accuracy: 0.9900\n",
      "Epoch 5/45\n",
      " - 59s - loss: 0.0721 - accuracy: 0.9785 - val_loss: 0.0277 - val_accuracy: 0.9925\n",
      "Epoch 6/45\n",
      " - 65s - loss: 0.0655 - accuracy: 0.9795 - val_loss: 0.0201 - val_accuracy: 0.9875\n",
      "Epoch 7/45\n",
      " - 66s - loss: 0.0677 - accuracy: 0.9808 - val_loss: 0.0217 - val_accuracy: 0.9925\n",
      "Epoch 8/45\n",
      " - 57s - loss: 0.0665 - accuracy: 0.9808 - val_loss: 0.0236 - val_accuracy: 0.9925\n",
      "Epoch 9/45\n",
      " - 54s - loss: 0.0644 - accuracy: 0.9809 - val_loss: 0.0244 - val_accuracy: 0.9900\n",
      "Epoch 10/45\n",
      " - 52s - loss: 0.0646 - accuracy: 0.9807 - val_loss: 0.0165 - val_accuracy: 0.9925\n",
      "Epoch 11/45\n",
      " - 49s - loss: 0.0575 - accuracy: 0.9820 - val_loss: 0.0187 - val_accuracy: 0.9925\n",
      "Epoch 12/45\n",
      " - 49s - loss: 0.0513 - accuracy: 0.9844 - val_loss: 0.0237 - val_accuracy: 0.9900\n",
      "Epoch 13/45\n",
      " - 49s - loss: 0.0659 - accuracy: 0.9812 - val_loss: 0.0165 - val_accuracy: 0.9925\n",
      "Epoch 14/45\n",
      " - 51s - loss: 0.0570 - accuracy: 0.9834 - val_loss: 0.0254 - val_accuracy: 0.9900\n",
      "Epoch 15/45\n",
      " - 49s - loss: 0.0517 - accuracy: 0.9837 - val_loss: 0.0232 - val_accuracy: 0.9900\n",
      "Epoch 16/45\n",
      " - 56s - loss: 0.0576 - accuracy: 0.9839 - val_loss: 0.0200 - val_accuracy: 0.9925\n",
      "Epoch 17/45\n",
      " - 56s - loss: 0.0559 - accuracy: 0.9837 - val_loss: 0.0184 - val_accuracy: 0.9925\n",
      "Epoch 18/45\n",
      " - 56s - loss: 0.0550 - accuracy: 0.9845 - val_loss: 0.0203 - val_accuracy: 0.9925\n",
      "Epoch 19/45\n",
      " - 51s - loss: 0.0511 - accuracy: 0.9847 - val_loss: 0.0231 - val_accuracy: 0.9900\n",
      "Epoch 20/45\n",
      " - 50s - loss: 0.0522 - accuracy: 0.9849 - val_loss: 0.0228 - val_accuracy: 0.9925\n",
      "Epoch 21/45\n",
      " - 49s - loss: 0.0605 - accuracy: 0.9819 - val_loss: 0.0227 - val_accuracy: 0.9900\n",
      "Epoch 22/45\n",
      " - 54s - loss: 0.0510 - accuracy: 0.9850 - val_loss: 0.0206 - val_accuracy: 0.9900\n",
      "Epoch 23/45\n",
      " - 60s - loss: 0.0496 - accuracy: 0.9850 - val_loss: 0.0223 - val_accuracy: 0.9925\n",
      "Epoch 24/45\n",
      " - 52s - loss: 0.0529 - accuracy: 0.9839 - val_loss: 0.0202 - val_accuracy: 0.9900\n",
      "Epoch 25/45\n",
      " - 55s - loss: 0.0592 - accuracy: 0.9830 - val_loss: 0.0204 - val_accuracy: 0.9925\n",
      "Epoch 26/45\n",
      " - 55s - loss: 0.0485 - accuracy: 0.9870 - val_loss: 0.0197 - val_accuracy: 0.9925\n",
      "Epoch 27/45\n",
      " - 52s - loss: 0.0488 - accuracy: 0.9846 - val_loss: 0.0210 - val_accuracy: 0.9925\n",
      "Epoch 28/45\n",
      " - 50s - loss: 0.0531 - accuracy: 0.9845 - val_loss: 0.0210 - val_accuracy: 0.9925\n",
      "Epoch 29/45\n",
      " - 50s - loss: 0.0497 - accuracy: 0.9858 - val_loss: 0.0195 - val_accuracy: 0.9925\n",
      "Epoch 30/45\n",
      " - 49s - loss: 0.0461 - accuracy: 0.9864 - val_loss: 0.0194 - val_accuracy: 0.9925\n",
      "Epoch 31/45\n",
      " - 51s - loss: 0.0518 - accuracy: 0.9844 - val_loss: 0.0214 - val_accuracy: 0.9925\n",
      "Epoch 32/45\n",
      " - 56s - loss: 0.0512 - accuracy: 0.9852 - val_loss: 0.0195 - val_accuracy: 0.9925\n",
      "Epoch 33/45\n",
      " - 55s - loss: 0.0505 - accuracy: 0.9851 - val_loss: 0.0202 - val_accuracy: 0.9925\n",
      "Epoch 34/45\n",
      " - 53s - loss: 0.0520 - accuracy: 0.9846 - val_loss: 0.0213 - val_accuracy: 0.9925\n",
      "Epoch 35/45\n",
      " - 52s - loss: 0.0411 - accuracy: 0.9883 - val_loss: 0.0208 - val_accuracy: 0.9925\n",
      "Epoch 36/45\n",
      " - 55s - loss: 0.0600 - accuracy: 0.9820 - val_loss: 0.0204 - val_accuracy: 0.9925\n",
      "Epoch 37/45\n",
      " - 55s - loss: 0.0506 - accuracy: 0.9849 - val_loss: 0.0202 - val_accuracy: 0.9925\n",
      "Epoch 38/45\n",
      " - 53s - loss: 0.0528 - accuracy: 0.9849 - val_loss: 0.0212 - val_accuracy: 0.9925\n",
      "Epoch 39/45\n",
      " - 53s - loss: 0.0445 - accuracy: 0.9864 - val_loss: 0.0205 - val_accuracy: 0.9925\n",
      "Epoch 40/45\n",
      " - 49s - loss: 0.0524 - accuracy: 0.9837 - val_loss: 0.0211 - val_accuracy: 0.9925\n",
      "Epoch 41/45\n",
      " - 50s - loss: 0.0474 - accuracy: 0.9862 - val_loss: 0.0206 - val_accuracy: 0.9925\n",
      "Epoch 42/45\n",
      " - 50s - loss: 0.0510 - accuracy: 0.9843 - val_loss: 0.0210 - val_accuracy: 0.9925\n",
      "Epoch 43/45\n",
      " - 58s - loss: 0.0504 - accuracy: 0.9835 - val_loss: 0.0205 - val_accuracy: 0.9925\n",
      "Epoch 44/45\n",
      " - 55s - loss: 0.0539 - accuracy: 0.9843 - val_loss: 0.0210 - val_accuracy: 0.9925\n",
      "Epoch 45/45\n",
      " - 50s - loss: 0.0471 - accuracy: 0.9867 - val_loss: 0.0206 - val_accuracy: 0.9925\n"
     ]
    }
   ],
   "source": [
    "hist = model.fit_generator(datagen.flow(x_train, y_train, batch_size=16),\n",
    "                           steps_per_epoch=500,\n",
    "                           epochs=45, \n",
    "                           verbose=2,  #1 for ETA, 0 for silent\n",
    "                           validation_data=(x_val[:400,:], y_val[:400,:]), #For speed\n",
    "                           callbacks=[annealer])"
   ]
  },
  {
   "cell_type": "code",
   "execution_count": 22,
   "metadata": {},
   "outputs": [
    {
     "name": "stdout",
     "output_type": "stream",
     "text": [
      "12600/12600 [==============================] - 21s 2ms/step\n"
     ]
    },
    {
     "data": {
      "text/plain": [
       "[0.01762297594504956, 0.9946825504302979]"
      ]
     },
     "execution_count": 22,
     "metadata": {},
     "output_type": "execute_result"
    }
   ],
   "source": [
    "# evaluate the model:\n",
    "model.evaluate(x_val,y_val)"
   ]
  },
  {
   "cell_type": "code",
   "execution_count": null,
   "metadata": {},
   "outputs": [],
   "source": [
    "# the model reached an accuracy of 99.29% "
   ]
  },
  {
   "cell_type": "code",
   "execution_count": 18,
   "metadata": {},
   "outputs": [
    {
     "name": "stdout",
     "output_type": "stream",
     "text": [
      "12600/12600 [==============================] - 20s 2ms/step\n"
     ]
    },
    {
     "data": {
      "text/plain": [
       "[0.02383978288306574, 0.9929364919662476]"
      ]
     },
     "execution_count": 18,
     "metadata": {},
     "output_type": "execute_result"
    }
   ],
   "source": [
    "model.evaluate(x_val,y_val)"
   ]
  },
  {
   "cell_type": "markdown",
   "metadata": {},
   "source": [
    "# Submission"
   ]
  },
  {
   "cell_type": "code",
   "execution_count": 23,
   "metadata": {},
   "outputs": [],
   "source": [
    "# predict results\n",
    "results = model.predict(x_test)\n",
    "\n",
    "# select the indix with the maximum probability\n",
    "results = np.argmax(results,axis = 1)\n",
    "\n",
    "results = pd.Series(results,name=\"Label\")"
   ]
  },
  {
   "cell_type": "code",
   "execution_count": 24,
   "metadata": {},
   "outputs": [],
   "source": [
    "submission = pd.concat([pd.Series(range(1,28001),name = \"ImageId\"),results],axis = 1)\n",
    "\n",
    "submission.to_csv(\"pred_mnist.csv\",index=False)"
   ]
  }
 ],
 "metadata": {
  "kernelspec": {
   "display_name": "Python 3",
   "language": "python",
   "name": "python3"
  },
  "language_info": {
   "codemirror_mode": {
    "name": "ipython",
    "version": 3
   },
   "file_extension": ".py",
   "mimetype": "text/x-python",
   "name": "python",
   "nbconvert_exporter": "python",
   "pygments_lexer": "ipython3",
   "version": "3.6.5"
  }
 },
 "nbformat": 4,
 "nbformat_minor": 2
}
