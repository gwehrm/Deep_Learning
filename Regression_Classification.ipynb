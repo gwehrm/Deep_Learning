{
 "cells": [
  {
   "cell_type": "markdown",
   "metadata": {},
   "source": [
    "# Regression and Classification in one Model\n",
    "\n",
    "Goal is to use one model for a regression and a classification. For that I go with the articles from watson.ch again. I want to predict the author of the article (classification) and the number of comments (regression) based on the article. "
   ]
  },
  {
   "cell_type": "markdown",
   "metadata": {},
   "source": [
    "## Data"
   ]
  },
  {
   "cell_type": "code",
   "execution_count": 1,
   "metadata": {},
   "outputs": [],
   "source": [
    "import pandas as pd\n",
    "#import Python libaries needed for training embbeded vectors \n",
    "from gensim.models.word2vec import LineSentence\n",
    "from gensim.models import Word2Vec\n",
    "import time # for checking how long the training process takes\n",
    "import re\n",
    "import string\n",
    "from sklearn.manifold import TSNE\n",
    "import matplotlib.pyplot as plt\n",
    "import matplotlib.cm as cm\n",
    "import numpy as np\n",
    "import ipynb.fs.full.Classifier as cl#from https://github.com/ptnplanet/NLTK-Contributions/blob/master/ClassifierBasedGermanTagger/ClassifierBasedGermanTagger.py\n",
    "import random\n",
    "% matplotlib inline"
   ]
  },
  {
   "cell_type": "code",
   "execution_count": 2,
   "metadata": {},
   "outputs": [
    {
     "data": {
      "text/html": [
       "<div>\n",
       "<style scoped>\n",
       "    .dataframe tbody tr th:only-of-type {\n",
       "        vertical-align: middle;\n",
       "    }\n",
       "\n",
       "    .dataframe tbody tr th {\n",
       "        vertical-align: top;\n",
       "    }\n",
       "\n",
       "    .dataframe thead th {\n",
       "        text-align: right;\n",
       "    }\n",
       "</style>\n",
       "<table border=\"1\" class=\"dataframe\">\n",
       "  <thead>\n",
       "    <tr style=\"text-align: right;\">\n",
       "      <th></th>\n",
       "      <th>title</th>\n",
       "      <th>author</th>\n",
       "      <th>date</th>\n",
       "      <th>nmbr_comments</th>\n",
       "      <th>themes</th>\n",
       "      <th>article</th>\n",
       "    </tr>\n",
       "  </thead>\n",
       "  <tbody>\n",
       "    <tr>\n",
       "      <th>0</th>\n",
       "      <td>Tourismus-Professor pendelt mit Flugzeug zur A...</td>\n",
       "      <td>no_author</td>\n",
       "      <td>28.03.19, 22:15 28.03.19, 22:40</td>\n",
       "      <td>19</td>\n",
       "      <td>['Schweiz', 'Gesellschaft &amp; Politik', 'Klima']</td>\n",
       "      <td>['Naaa, wie kommt ihr so zur Uni? Mit dem Fahr...</td>\n",
       "    </tr>\n",
       "    <tr>\n",
       "      <th>1</th>\n",
       "      <td>no_title</td>\n",
       "      <td>no_author</td>\n",
       "      <td>no_date</td>\n",
       "      <td>no_comments</td>\n",
       "      <td>[]</td>\n",
       "      <td>['\\r\\n\\t\\tMit deiner Anmeldung erklärst du dic...</td>\n",
       "    </tr>\n",
       "    <tr>\n",
       "      <th>2</th>\n",
       "      <td>Anstatt mit Bus und Zug fahren mehr Menschen m...</td>\n",
       "      <td>no_author</td>\n",
       "      <td>28.03.19, 17:39</td>\n",
       "      <td>29</td>\n",
       "      <td>['Schweiz', 'Gesellschaft &amp; Politik', 'Mobilit...</td>\n",
       "      <td>['\\nDer Ausbau des öffentlichen Verkehrs würde...</td>\n",
       "    </tr>\n",
       "    <tr>\n",
       "      <th>3</th>\n",
       "      <td>Über 80'000 Franken bei Online-Bank N26 geklau...</td>\n",
       "      <td>no_author</td>\n",
       "      <td>28.03.19, 17:34</td>\n",
       "      <td>18</td>\n",
       "      <td>['Digital', 'Schweiz', 'Datenschutz', 'Deutsch...</td>\n",
       "      <td>['\\nDie gefeierte Online-Bank N26 verspielt ge...</td>\n",
       "    </tr>\n",
       "    <tr>\n",
       "      <th>4</th>\n",
       "      <td>Der Wolf ist zurück – was auch Städter wissen ...</td>\n",
       "      <td>no_author</td>\n",
       "      <td>28.03.19, 16:19</td>\n",
       "      <td>45</td>\n",
       "      <td>['Schweiz', 'Wissen', 'Aargau', 'Natur', 'Tier']</td>\n",
       "      <td>['\\nDer gesetzliche Schutz des Wolfes wird der...</td>\n",
       "    </tr>\n",
       "  </tbody>\n",
       "</table>\n",
       "</div>"
      ],
      "text/plain": [
       "                                               title     author  \\\n",
       "0  Tourismus-Professor pendelt mit Flugzeug zur A...  no_author   \n",
       "1                                           no_title  no_author   \n",
       "2  Anstatt mit Bus und Zug fahren mehr Menschen m...  no_author   \n",
       "3  Über 80'000 Franken bei Online-Bank N26 geklau...  no_author   \n",
       "4  Der Wolf ist zurück – was auch Städter wissen ...  no_author   \n",
       "\n",
       "                              date nmbr_comments  \\\n",
       "0  28.03.19, 22:15 28.03.19, 22:40            19   \n",
       "1                          no_date   no_comments   \n",
       "2                 28.03.19, 17:39             29   \n",
       "3                 28.03.19, 17:34             18   \n",
       "4                 28.03.19, 16:19             45   \n",
       "\n",
       "                                              themes  \\\n",
       "0     ['Schweiz', 'Gesellschaft & Politik', 'Klima']   \n",
       "1                                                 []   \n",
       "2  ['Schweiz', 'Gesellschaft & Politik', 'Mobilit...   \n",
       "3  ['Digital', 'Schweiz', 'Datenschutz', 'Deutsch...   \n",
       "4   ['Schweiz', 'Wissen', 'Aargau', 'Natur', 'Tier']   \n",
       "\n",
       "                                             article  \n",
       "0  ['Naaa, wie kommt ihr so zur Uni? Mit dem Fahr...  \n",
       "1  ['\\r\\n\\t\\tMit deiner Anmeldung erklärst du dic...  \n",
       "2  ['\\nDer Ausbau des öffentlichen Verkehrs würde...  \n",
       "3  ['\\nDie gefeierte Online-Bank N26 verspielt ge...  \n",
       "4  ['\\nDer gesetzliche Schutz des Wolfes wird der...  "
      ]
     },
     "execution_count": 2,
     "metadata": {},
     "output_type": "execute_result"
    }
   ],
   "source": [
    "# load the dataset\n",
    "articles = pd.read_csv(\"C:\\\\Users\\\\gwehrm\\\\Documents\\\\Repos\\\\watson_analysis\\\\watson_schweiz.csv\",sep = \";\")\n",
    "articles.head(5)"
   ]
  },
  {
   "cell_type": "code",
   "execution_count": 3,
   "metadata": {},
   "outputs": [
    {
     "name": "stderr",
     "output_type": "stream",
     "text": [
      "C:\\ProgramData\\Anaconda3\\lib\\site-packages\\ipykernel_launcher.py:10: SettingWithCopyWarning: \n",
      "A value is trying to be set on a copy of a slice from a DataFrame.\n",
      "Try using .loc[row_indexer,col_indexer] = value instead\n",
      "\n",
      "See the caveats in the documentation: http://pandas.pydata.org/pandas-docs/stable/indexing.html#indexing-view-versus-copy\n",
      "  # Remove the CWD from sys.path while we load stuff.\n"
     ]
    },
    {
     "data": {
      "text/html": [
       "<div>\n",
       "<style scoped>\n",
       "    .dataframe tbody tr th:only-of-type {\n",
       "        vertical-align: middle;\n",
       "    }\n",
       "\n",
       "    .dataframe tbody tr th {\n",
       "        vertical-align: top;\n",
       "    }\n",
       "\n",
       "    .dataframe thead th {\n",
       "        text-align: right;\n",
       "    }\n",
       "</style>\n",
       "<table border=\"1\" class=\"dataframe\">\n",
       "  <thead>\n",
       "    <tr style=\"text-align: right;\">\n",
       "      <th></th>\n",
       "      <th>title</th>\n",
       "      <th>date</th>\n",
       "      <th>nmbr_comments</th>\n",
       "      <th>themes</th>\n",
       "      <th>article</th>\n",
       "    </tr>\n",
       "    <tr>\n",
       "      <th>author</th>\n",
       "      <th></th>\n",
       "      <th></th>\n",
       "      <th></th>\n",
       "      <th></th>\n",
       "      <th></th>\n",
       "    </tr>\n",
       "  </thead>\n",
       "  <tbody>\n",
       "    <tr>\n",
       "      <th>1</th>\n",
       "      <td>63</td>\n",
       "      <td>63</td>\n",
       "      <td>63</td>\n",
       "      <td>63</td>\n",
       "      <td>63</td>\n",
       "    </tr>\n",
       "    <tr>\n",
       "      <th>5</th>\n",
       "      <td>113</td>\n",
       "      <td>113</td>\n",
       "      <td>113</td>\n",
       "      <td>113</td>\n",
       "      <td>113</td>\n",
       "    </tr>\n",
       "    <tr>\n",
       "      <th>7</th>\n",
       "      <td>149</td>\n",
       "      <td>149</td>\n",
       "      <td>149</td>\n",
       "      <td>149</td>\n",
       "      <td>149</td>\n",
       "    </tr>\n",
       "    <tr>\n",
       "      <th>15</th>\n",
       "      <td>104</td>\n",
       "      <td>104</td>\n",
       "      <td>104</td>\n",
       "      <td>104</td>\n",
       "      <td>104</td>\n",
       "    </tr>\n",
       "    <tr>\n",
       "      <th>16</th>\n",
       "      <td>152</td>\n",
       "      <td>152</td>\n",
       "      <td>152</td>\n",
       "      <td>152</td>\n",
       "      <td>152</td>\n",
       "    </tr>\n",
       "    <tr>\n",
       "      <th>19</th>\n",
       "      <td>155</td>\n",
       "      <td>155</td>\n",
       "      <td>155</td>\n",
       "      <td>155</td>\n",
       "      <td>155</td>\n",
       "    </tr>\n",
       "    <tr>\n",
       "      <th>28</th>\n",
       "      <td>52</td>\n",
       "      <td>52</td>\n",
       "      <td>52</td>\n",
       "      <td>52</td>\n",
       "      <td>52</td>\n",
       "    </tr>\n",
       "    <tr>\n",
       "      <th>42</th>\n",
       "      <td>133</td>\n",
       "      <td>133</td>\n",
       "      <td>133</td>\n",
       "      <td>133</td>\n",
       "      <td>133</td>\n",
       "    </tr>\n",
       "    <tr>\n",
       "      <th>49</th>\n",
       "      <td>99</td>\n",
       "      <td>99</td>\n",
       "      <td>99</td>\n",
       "      <td>99</td>\n",
       "      <td>99</td>\n",
       "    </tr>\n",
       "    <tr>\n",
       "      <th>57</th>\n",
       "      <td>60</td>\n",
       "      <td>60</td>\n",
       "      <td>60</td>\n",
       "      <td>60</td>\n",
       "      <td>60</td>\n",
       "    </tr>\n",
       "  </tbody>\n",
       "</table>\n",
       "</div>"
      ],
      "text/plain": [
       "        title  date  nmbr_comments  themes  article\n",
       "author                                             \n",
       "1          63    63             63      63       63\n",
       "5         113   113            113     113      113\n",
       "7         149   149            149     149      149\n",
       "15        104   104            104     104      104\n",
       "16        152   152            152     152      152\n",
       "19        155   155            155     155      155\n",
       "28         52    52             52      52       52\n",
       "42        133   133            133     133      133\n",
       "49         99    99             99      99       99\n",
       "57         60    60             60      60       60"
      ]
     },
     "metadata": {},
     "output_type": "display_data"
    }
   ],
   "source": [
    "# filter no_author\n",
    "data_reduced = articles[-articles['author'].str.contains(\"no_author\")]\n",
    "# authors_article = data_reduced.groupby('author').count().reset_index()\n",
    "# for simplicity I will reduce the number of authors. I set a threshold of minimum 50 articles \n",
    "\n",
    "\n",
    "# Importing necessary libraries\n",
    "from sklearn.preprocessing import LabelEncoder\n",
    "labelencoder = LabelEncoder()\n",
    "data_reduced[\"author\"] = labelencoder.fit_transform(data_reduced[\"author\"])\n",
    "\n",
    "\n",
    "g = data_reduced.groupby('author')\n",
    "data_reduced = g.filter(lambda x: len(x) > 50).reset_index(drop = True)\n",
    "display(data_reduced.groupby('author').count())"
   ]
  },
  {
   "cell_type": "code",
   "execution_count": 4,
   "metadata": {},
   "outputs": [
    {
     "data": {
      "text/html": [
       "<div>\n",
       "<style scoped>\n",
       "    .dataframe tbody tr th:only-of-type {\n",
       "        vertical-align: middle;\n",
       "    }\n",
       "\n",
       "    .dataframe tbody tr th {\n",
       "        vertical-align: top;\n",
       "    }\n",
       "\n",
       "    .dataframe thead th {\n",
       "        text-align: right;\n",
       "    }\n",
       "</style>\n",
       "<table border=\"1\" class=\"dataframe\">\n",
       "  <thead>\n",
       "    <tr style=\"text-align: right;\">\n",
       "      <th></th>\n",
       "      <th>title</th>\n",
       "      <th>author</th>\n",
       "      <th>date</th>\n",
       "      <th>nmbr_comments</th>\n",
       "      <th>themes</th>\n",
       "      <th>article</th>\n",
       "    </tr>\n",
       "  </thead>\n",
       "  <tbody>\n",
       "    <tr>\n",
       "      <th>0</th>\n",
       "      <td>Zielscheibe der Wut – Tamara Funiciello auf de...</td>\n",
       "      <td>49</td>\n",
       "      <td>28.03.19, 11:28 28.03.19, 12:40</td>\n",
       "      <td>392</td>\n",
       "      <td>['Schweiz', 'Facebook', 'Feminismus', 'Gesells...</td>\n",
       "      <td>['\\nTamara Funiciello: Juso-Präsidentin und Zi...</td>\n",
       "    </tr>\n",
       "    <tr>\n",
       "      <th>1</th>\n",
       "      <td>Der Hass im Netz nimmt zu – was bedeutet das f...</td>\n",
       "      <td>57</td>\n",
       "      <td>27.03.19, 10:29 27.03.19, 18:58</td>\n",
       "      <td>26</td>\n",
       "      <td>['Schweiz', 'Best of watson', 'Facebook', 'Ges...</td>\n",
       "      <td>['Die aktuelle Kriminalstatistik zeigt deutlic...</td>\n",
       "    </tr>\n",
       "    <tr>\n",
       "      <th>2</th>\n",
       "      <td>Der Kampf um den Waschturm  – ein Zürcher Krie...</td>\n",
       "      <td>57</td>\n",
       "      <td>26.03.19, 09:26 27.03.19, 01:36</td>\n",
       "      <td>70</td>\n",
       "      <td>['Schweiz', 'Best of watson', 'Gesellschaft &amp; ...</td>\n",
       "      <td>['Tatort: Ein Mehrfamilienhaus in Zürich Wipki...</td>\n",
       "    </tr>\n",
       "    <tr>\n",
       "      <th>3</th>\n",
       "      <td>«Das ist erst der Anfang»: So reagiert die Kli...</td>\n",
       "      <td>1</td>\n",
       "      <td>25.03.19, 18:42 26.03.19, 11:01</td>\n",
       "      <td>41</td>\n",
       "      <td>['Schweiz', 'Best of watson', 'Klima', 'Klimas...</td>\n",
       "      <td>['Die Klimastreik-Bewegung feiert mit dem Erdr...</td>\n",
       "    </tr>\n",
       "    <tr>\n",
       "      <th>4</th>\n",
       "      <td>Warum das Klima rockt und Europa nicht: 5 Erke...</td>\n",
       "      <td>42</td>\n",
       "      <td>25.03.19, 14:53 26.03.19, 06:49</td>\n",
       "      <td>33</td>\n",
       "      <td>['Schweiz', 'BDP', 'Best of watson', 'CVP', 'F...</td>\n",
       "      <td>['\\nDie Parteipräsidenten Konrad Langhart (SVP...</td>\n",
       "    </tr>\n",
       "  </tbody>\n",
       "</table>\n",
       "</div>"
      ],
      "text/plain": [
       "                                               title  author  \\\n",
       "0  Zielscheibe der Wut – Tamara Funiciello auf de...      49   \n",
       "1  Der Hass im Netz nimmt zu – was bedeutet das f...      57   \n",
       "2  Der Kampf um den Waschturm  – ein Zürcher Krie...      57   \n",
       "3  «Das ist erst der Anfang»: So reagiert die Kli...       1   \n",
       "4  Warum das Klima rockt und Europa nicht: 5 Erke...      42   \n",
       "\n",
       "                              date nmbr_comments  \\\n",
       "0  28.03.19, 11:28 28.03.19, 12:40           392   \n",
       "1  27.03.19, 10:29 27.03.19, 18:58            26   \n",
       "2  26.03.19, 09:26 27.03.19, 01:36            70   \n",
       "3  25.03.19, 18:42 26.03.19, 11:01            41   \n",
       "4  25.03.19, 14:53 26.03.19, 06:49            33   \n",
       "\n",
       "                                              themes  \\\n",
       "0  ['Schweiz', 'Facebook', 'Feminismus', 'Gesells...   \n",
       "1  ['Schweiz', 'Best of watson', 'Facebook', 'Ges...   \n",
       "2  ['Schweiz', 'Best of watson', 'Gesellschaft & ...   \n",
       "3  ['Schweiz', 'Best of watson', 'Klima', 'Klimas...   \n",
       "4  ['Schweiz', 'BDP', 'Best of watson', 'CVP', 'F...   \n",
       "\n",
       "                                             article  \n",
       "0  ['\\nTamara Funiciello: Juso-Präsidentin und Zi...  \n",
       "1  ['Die aktuelle Kriminalstatistik zeigt deutlic...  \n",
       "2  ['Tatort: Ein Mehrfamilienhaus in Zürich Wipki...  \n",
       "3  ['Die Klimastreik-Bewegung feiert mit dem Erdr...  \n",
       "4  ['\\nDie Parteipräsidenten Konrad Langhart (SVP...  "
      ]
     },
     "execution_count": 4,
     "metadata": {},
     "output_type": "execute_result"
    }
   ],
   "source": [
    "data_reduced.head()"
   ]
  },
  {
   "cell_type": "code",
   "execution_count": 5,
   "metadata": {},
   "outputs": [],
   "source": [
    "# it looks quite alright. only problem is that we have the \\n in front. with string replace to solve\n",
    "data_reduced[\"article\"] = [art.replace(\"\\\\n\",\"\").replace(\"\\n\",\"\").replace(\"\\r\",\"\").replace(\"\\t\",\"\") for art in data_reduced[\"article\"]]"
   ]
  },
  {
   "cell_type": "code",
   "execution_count": 6,
   "metadata": {},
   "outputs": [],
   "source": [
    "# remove punctuation\n",
    "exclude = set(string.punctuation)\n",
    "for index,s in enumerate(data_reduced[\"article\"]):\n",
    "    exclude = set(string.punctuation)\n",
    "    data_reduced.loc[index,\"article\"]= ''.join(ch for ch in s if ch not in exclude)"
   ]
  },
  {
   "cell_type": "code",
   "execution_count": 7,
   "metadata": {},
   "outputs": [
    {
     "data": {
      "text/html": [
       "<div>\n",
       "<style scoped>\n",
       "    .dataframe tbody tr th:only-of-type {\n",
       "        vertical-align: middle;\n",
       "    }\n",
       "\n",
       "    .dataframe tbody tr th {\n",
       "        vertical-align: top;\n",
       "    }\n",
       "\n",
       "    .dataframe thead th {\n",
       "        text-align: right;\n",
       "    }\n",
       "</style>\n",
       "<table border=\"1\" class=\"dataframe\">\n",
       "  <thead>\n",
       "    <tr style=\"text-align: right;\">\n",
       "      <th></th>\n",
       "      <th>title</th>\n",
       "      <th>author</th>\n",
       "      <th>date</th>\n",
       "      <th>nmbr_comments</th>\n",
       "      <th>themes</th>\n",
       "      <th>article</th>\n",
       "    </tr>\n",
       "  </thead>\n",
       "  <tbody>\n",
       "    <tr>\n",
       "      <th>0</th>\n",
       "      <td>Zielscheibe der Wut – Tamara Funiciello auf de...</td>\n",
       "      <td>49</td>\n",
       "      <td>28.03.19, 11:28 28.03.19, 12:40</td>\n",
       "      <td>392</td>\n",
       "      <td>['Schweiz', 'Facebook', 'Feminismus', 'Gesells...</td>\n",
       "      <td>Tamara Funiciello JusoPräsidentin und Zielsche...</td>\n",
       "    </tr>\n",
       "    <tr>\n",
       "      <th>1</th>\n",
       "      <td>Der Hass im Netz nimmt zu – was bedeutet das f...</td>\n",
       "      <td>57</td>\n",
       "      <td>27.03.19, 10:29 27.03.19, 18:58</td>\n",
       "      <td>26</td>\n",
       "      <td>['Schweiz', 'Best of watson', 'Facebook', 'Ges...</td>\n",
       "      <td>Die aktuelle Kriminalstatistik zeigt deutlich ...</td>\n",
       "    </tr>\n",
       "    <tr>\n",
       "      <th>2</th>\n",
       "      <td>Der Kampf um den Waschturm  – ein Zürcher Krie...</td>\n",
       "      <td>57</td>\n",
       "      <td>26.03.19, 09:26 27.03.19, 01:36</td>\n",
       "      <td>70</td>\n",
       "      <td>['Schweiz', 'Best of watson', 'Gesellschaft &amp; ...</td>\n",
       "      <td>Tatort Ein Mehrfamilienhaus in Zürich Wipkinge...</td>\n",
       "    </tr>\n",
       "    <tr>\n",
       "      <th>3</th>\n",
       "      <td>«Das ist erst der Anfang»: So reagiert die Kli...</td>\n",
       "      <td>1</td>\n",
       "      <td>25.03.19, 18:42 26.03.19, 11:01</td>\n",
       "      <td>41</td>\n",
       "      <td>['Schweiz', 'Best of watson', 'Klima', 'Klimas...</td>\n",
       "      <td>Die KlimastreikBewegung feiert mit dem Erdruts...</td>\n",
       "    </tr>\n",
       "    <tr>\n",
       "      <th>4</th>\n",
       "      <td>Warum das Klima rockt und Europa nicht: 5 Erke...</td>\n",
       "      <td>42</td>\n",
       "      <td>25.03.19, 14:53 26.03.19, 06:49</td>\n",
       "      <td>33</td>\n",
       "      <td>['Schweiz', 'BDP', 'Best of watson', 'CVP', 'F...</td>\n",
       "      <td>Die Parteipräsidenten Konrad Langhart SVP link...</td>\n",
       "    </tr>\n",
       "  </tbody>\n",
       "</table>\n",
       "</div>"
      ],
      "text/plain": [
       "                                               title  author  \\\n",
       "0  Zielscheibe der Wut – Tamara Funiciello auf de...      49   \n",
       "1  Der Hass im Netz nimmt zu – was bedeutet das f...      57   \n",
       "2  Der Kampf um den Waschturm  – ein Zürcher Krie...      57   \n",
       "3  «Das ist erst der Anfang»: So reagiert die Kli...       1   \n",
       "4  Warum das Klima rockt und Europa nicht: 5 Erke...      42   \n",
       "\n",
       "                              date nmbr_comments  \\\n",
       "0  28.03.19, 11:28 28.03.19, 12:40           392   \n",
       "1  27.03.19, 10:29 27.03.19, 18:58            26   \n",
       "2  26.03.19, 09:26 27.03.19, 01:36            70   \n",
       "3  25.03.19, 18:42 26.03.19, 11:01            41   \n",
       "4  25.03.19, 14:53 26.03.19, 06:49            33   \n",
       "\n",
       "                                              themes  \\\n",
       "0  ['Schweiz', 'Facebook', 'Feminismus', 'Gesells...   \n",
       "1  ['Schweiz', 'Best of watson', 'Facebook', 'Ges...   \n",
       "2  ['Schweiz', 'Best of watson', 'Gesellschaft & ...   \n",
       "3  ['Schweiz', 'Best of watson', 'Klima', 'Klimas...   \n",
       "4  ['Schweiz', 'BDP', 'Best of watson', 'CVP', 'F...   \n",
       "\n",
       "                                             article  \n",
       "0  Tamara Funiciello JusoPräsidentin und Zielsche...  \n",
       "1  Die aktuelle Kriminalstatistik zeigt deutlich ...  \n",
       "2  Tatort Ein Mehrfamilienhaus in Zürich Wipkinge...  \n",
       "3  Die KlimastreikBewegung feiert mit dem Erdruts...  \n",
       "4  Die Parteipräsidenten Konrad Langhart SVP link...  "
      ]
     },
     "metadata": {},
     "output_type": "display_data"
    },
    {
     "data": {
      "text/plain": [
       "(1080, 6)"
      ]
     },
     "metadata": {},
     "output_type": "display_data"
    }
   ],
   "source": [
    "display(data_reduced.head())\n",
    "display(data_reduced.shape)\n",
    "# the articles look alright now\n",
    "# and in total 1080 articles"
   ]
  },
  {
   "cell_type": "code",
   "execution_count": 8,
   "metadata": {},
   "outputs": [
    {
     "name": "stdout",
     "output_type": "stream",
     "text": [
      "[nltk_data] Downloading package stopwords to\n",
      "[nltk_data]     C:\\Users\\gwehrm\\AppData\\Roaming\\nltk_data...\n",
      "[nltk_data]   Package stopwords is already up-to-date!\n"
     ]
    },
    {
     "data": {
      "text/plain": [
       "True"
      ]
     },
     "execution_count": 8,
     "metadata": {},
     "output_type": "execute_result"
    }
   ],
   "source": [
    "#dowloading the stopwords\n",
    "import nltk\n",
    "nltk.download('stopwords')"
   ]
  },
  {
   "cell_type": "code",
   "execution_count": 9,
   "metadata": {},
   "outputs": [],
   "source": [
    "from nltk.corpus import stopwords"
   ]
  },
  {
   "cell_type": "code",
   "execution_count": 10,
   "metadata": {},
   "outputs": [],
   "source": [
    "# read in the dowloaded corpus to train the tagger\n",
    "corp = nltk.corpus.ConllCorpusReader('C:\\\\Users\\\\gwehrm\\\\Documents', 'tiger_release_aug07.corrected.16012013.conll09',\n",
    "                                     ['ignore', 'words', 'ignore', 'ignore', 'pos'],\n",
    "                                     encoding='utf-8')\n",
    "\n",
    "tagged_sents = list(corp.tagged_sents())\n",
    "random.shuffle(tagged_sents)\n",
    "\n",
    "# set a split size: use 90% for training, 10% for testing\n",
    "split_perc = 0.1\n",
    "split_size = int(len(tagged_sents) * split_perc)\n",
    "train_sents, test_sents = tagged_sents[split_size:], tagged_sents[:split_size]\n",
    "\n",
    "# from ClassifierBasedGermanTagger\n",
    "#train the classifier ()\n",
    "tagger = cl.ClassifierBasedGermanTagger(train=train_sents)\n",
    "\n",
    "from germalemma import GermaLemma\n",
    "lemmatizer = GermaLemma()\n",
    "\n",
    "accuracy = tagger.evaluate(test_sents)"
   ]
  },
  {
   "cell_type": "code",
   "execution_count": 11,
   "metadata": {},
   "outputs": [
    {
     "data": {
      "text/plain": [
       "0.9409471066907775"
      ]
     },
     "metadata": {},
     "output_type": "display_data"
    }
   ],
   "source": [
    "#the accuracy of the trained tagger (it was trained on the tiger corpus)\n",
    "display(accuracy)"
   ]
  },
  {
   "cell_type": "code",
   "execution_count": 12,
   "metadata": {
    "scrolled": true
   },
   "outputs": [
    {
     "name": "stderr",
     "output_type": "stream",
     "text": [
      "C:\\ProgramData\\Anaconda3\\lib\\site-packages\\ipykernel_launcher.py:3: SettingWithCopyWarning: \n",
      "A value is trying to be set on a copy of a slice from a DataFrame\n",
      "\n",
      "See the caveats in the documentation: http://pandas.pydata.org/pandas-docs/stable/indexing.html#indexing-view-versus-copy\n",
      "  This is separate from the ipykernel package so we can avoid doing imports until\n"
     ]
    }
   ],
   "source": [
    "# in a list comprehension, first tag the word correctly and remove if it is a german stopword\n",
    "for index,article in enumerate(data_reduced[\"article\"]):\n",
    "    data_reduced[\"article\"][index]= tagger.tag([word for word in article.split() if word.lower() not in stopwords.words('german')])"
   ]
  },
  {
   "cell_type": "code",
   "execution_count": 13,
   "metadata": {},
   "outputs": [
    {
     "data": {
      "text/plain": [
       "0    [(Tamara, NE), (Funiciello, NE), (JusoPräsiden...\n",
       "1    [(aktuelle, ADJA), (Kriminalstatistik, NN), (z...\n",
       "2    [(Tatort, NN), (Mehrfamilienhaus, NE), (Zürich...\n",
       "3    [(KlimastreikBewegung, NE), (feiert, VVFIN), (...\n",
       "4    [(Parteipräsidenten, NE), (Konrad, NE), (Langh...\n",
       "Name: article, dtype: object"
      ]
     },
     "metadata": {},
     "output_type": "display_data"
    }
   ],
   "source": [
    "display(data_reduced[\"article\"].head())\n",
    "# the data is now tagged."
   ]
  },
  {
   "cell_type": "code",
   "execution_count": 14,
   "metadata": {},
   "outputs": [],
   "source": [
    "# to get the stem of the word, lemmatization needs to be done for each word\n",
    "\n",
    "from germalemma import GermaLemma\n",
    "lemmatizer = GermaLemma()\n",
    "# passing the word and the POS tag \n",
    "for index, tos in enumerate(data_reduced[\"article\"]):\n",
    "    article_w=[]\n",
    "    for i in tos:\n",
    "        try:\n",
    "            word, N = i\n",
    "            lemma = lemmatizer.find_lemma(word,N)\n",
    "            article_w.append(lemma)\n",
    "        except ValueError:\n",
    "            continue\n",
    "    data_reduced.at[index,\"article\"] = article_w\n"
   ]
  },
  {
   "cell_type": "code",
   "execution_count": 15,
   "metadata": {},
   "outputs": [
    {
     "data": {
      "text/plain": [
       "0    [Tamara, Funiciello, JusoPräsidentin, Zielsche...\n",
       "1    [aktuell, Kriminalstatistik, zeigen, deutlich,...\n",
       "2    [Tatort, Mehrfamilienhaus, Zürich, Wipkingen, ...\n",
       "3    [KlimastreikBewegung, feiern, ÖkoParteien, ers...\n",
       "4    [Parteipräsidenten, Konrad, Langhart, SVP, lin...\n",
       "Name: article, dtype: object"
      ]
     },
     "execution_count": 15,
     "metadata": {},
     "output_type": "execute_result"
    }
   ],
   "source": [
    "data_reduced[\"article\"].head()\n",
    "# the artiles look fine now. they are "
   ]
  },
  {
   "cell_type": "code",
   "execution_count": 16,
   "metadata": {},
   "outputs": [],
   "source": [
    "# write a csv to load the data directly\n",
    "# data_reduced.to_csv(\"tagged_articles.csv\")\n",
    "# data_reduced = pd.read_csv(\"tagged_articles.csv\")\n",
    "# data_reduced = data_reduced.drop(data_reduced.columns[0], axis=1)\n",
    "# data_reduced.head()"
   ]
  },
  {
   "cell_type": "code",
   "execution_count": 17,
   "metadata": {},
   "outputs": [
    {
     "name": "stderr",
     "output_type": "stream",
     "text": [
      "C:\\ProgramData\\Anaconda3\\lib\\site-packages\\h5py\\__init__.py:36: FutureWarning: Conversion of the second argument of issubdtype from `float` to `np.floating` is deprecated. In future, it will be treated as `np.float64 == np.dtype(float).type`.\n",
      "  from ._conv import register_converters as _register_converters\n",
      "Using TensorFlow backend.\n",
      "C:\\Users\\gwehrm\\AppData\\Roaming\\Python\\Python36\\site-packages\\tensorflow\\python\\framework\\dtypes.py:516: FutureWarning: Passing (type, 1) or '1type' as a synonym of type is deprecated; in a future version of numpy, it will be understood as (type, (1,)) / '(1,)type'.\n",
      "  _np_qint8 = np.dtype([(\"qint8\", np.int8, 1)])\n",
      "C:\\Users\\gwehrm\\AppData\\Roaming\\Python\\Python36\\site-packages\\tensorflow\\python\\framework\\dtypes.py:517: FutureWarning: Passing (type, 1) or '1type' as a synonym of type is deprecated; in a future version of numpy, it will be understood as (type, (1,)) / '(1,)type'.\n",
      "  _np_quint8 = np.dtype([(\"quint8\", np.uint8, 1)])\n",
      "C:\\Users\\gwehrm\\AppData\\Roaming\\Python\\Python36\\site-packages\\tensorflow\\python\\framework\\dtypes.py:518: FutureWarning: Passing (type, 1) or '1type' as a synonym of type is deprecated; in a future version of numpy, it will be understood as (type, (1,)) / '(1,)type'.\n",
      "  _np_qint16 = np.dtype([(\"qint16\", np.int16, 1)])\n",
      "C:\\Users\\gwehrm\\AppData\\Roaming\\Python\\Python36\\site-packages\\tensorflow\\python\\framework\\dtypes.py:519: FutureWarning: Passing (type, 1) or '1type' as a synonym of type is deprecated; in a future version of numpy, it will be understood as (type, (1,)) / '(1,)type'.\n",
      "  _np_quint16 = np.dtype([(\"quint16\", np.uint16, 1)])\n",
      "C:\\Users\\gwehrm\\AppData\\Roaming\\Python\\Python36\\site-packages\\tensorflow\\python\\framework\\dtypes.py:520: FutureWarning: Passing (type, 1) or '1type' as a synonym of type is deprecated; in a future version of numpy, it will be understood as (type, (1,)) / '(1,)type'.\n",
      "  _np_qint32 = np.dtype([(\"qint32\", np.int32, 1)])\n",
      "C:\\Users\\gwehrm\\AppData\\Roaming\\Python\\Python36\\site-packages\\tensorflow\\python\\framework\\dtypes.py:525: FutureWarning: Passing (type, 1) or '1type' as a synonym of type is deprecated; in a future version of numpy, it will be understood as (type, (1,)) / '(1,)type'.\n",
      "  np_resource = np.dtype([(\"resource\", np.ubyte, 1)])\n",
      "C:\\Users\\gwehrm\\AppData\\Roaming\\Python\\Python36\\site-packages\\tensorboard\\compat\\tensorflow_stub\\dtypes.py:541: FutureWarning: Passing (type, 1) or '1type' as a synonym of type is deprecated; in a future version of numpy, it will be understood as (type, (1,)) / '(1,)type'.\n",
      "  _np_qint8 = np.dtype([(\"qint8\", np.int8, 1)])\n",
      "C:\\Users\\gwehrm\\AppData\\Roaming\\Python\\Python36\\site-packages\\tensorboard\\compat\\tensorflow_stub\\dtypes.py:542: FutureWarning: Passing (type, 1) or '1type' as a synonym of type is deprecated; in a future version of numpy, it will be understood as (type, (1,)) / '(1,)type'.\n",
      "  _np_quint8 = np.dtype([(\"quint8\", np.uint8, 1)])\n",
      "C:\\Users\\gwehrm\\AppData\\Roaming\\Python\\Python36\\site-packages\\tensorboard\\compat\\tensorflow_stub\\dtypes.py:543: FutureWarning: Passing (type, 1) or '1type' as a synonym of type is deprecated; in a future version of numpy, it will be understood as (type, (1,)) / '(1,)type'.\n",
      "  _np_qint16 = np.dtype([(\"qint16\", np.int16, 1)])\n",
      "C:\\Users\\gwehrm\\AppData\\Roaming\\Python\\Python36\\site-packages\\tensorboard\\compat\\tensorflow_stub\\dtypes.py:544: FutureWarning: Passing (type, 1) or '1type' as a synonym of type is deprecated; in a future version of numpy, it will be understood as (type, (1,)) / '(1,)type'.\n",
      "  _np_quint16 = np.dtype([(\"quint16\", np.uint16, 1)])\n",
      "C:\\Users\\gwehrm\\AppData\\Roaming\\Python\\Python36\\site-packages\\tensorboard\\compat\\tensorflow_stub\\dtypes.py:545: FutureWarning: Passing (type, 1) or '1type' as a synonym of type is deprecated; in a future version of numpy, it will be understood as (type, (1,)) / '(1,)type'.\n",
      "  _np_qint32 = np.dtype([(\"qint32\", np.int32, 1)])\n",
      "C:\\Users\\gwehrm\\AppData\\Roaming\\Python\\Python36\\site-packages\\tensorboard\\compat\\tensorflow_stub\\dtypes.py:550: FutureWarning: Passing (type, 1) or '1type' as a synonym of type is deprecated; in a future version of numpy, it will be understood as (type, (1,)) / '(1,)type'.\n",
      "  np_resource = np.dtype([(\"resource\", np.ubyte, 1)])\n"
     ]
    }
   ],
   "source": [
    "# Importing necessary libraries\n",
    "from sklearn.feature_extraction.text import CountVectorizer\n",
    "from sklearn.model_selection import train_test_split\n",
    "\n",
    "#define X and y: y has in this case two columns - the number of comments (for regression) and the author (classification)\n",
    "y = data_reduced[[\"nmbr_comments\", \"author\"]]\n",
    "\n",
    "# due to the tagging, the articles are a list. this transforms each article to a long string (needed for the bag of words)\n",
    "X = []\n",
    "for i in data_reduced[\"article\"]:\n",
    "    X.append(\" \".join(i))\n",
    "\n",
    "\n",
    "# split the data\n",
    "X_train, X_test, y_train, y_test = train_test_split(X, y\n",
    "                                   ,test_size=0.2, random_state=1234)\n",
    "\n",
    "\n",
    "# change them to arrays and divide between regression (comments) and classification (author)\n",
    "y_train = np.array(y_train).astype(int)\n",
    "y_test = np.array(y_test).astype(int)\n",
    "\n",
    "y_train_comments = y_train[:,0]\n",
    "y_test_comments  = y_test[:,0]\n",
    "\n",
    "# the authors ohe\n",
    "from keras.utils import to_categorical\n",
    "\n",
    "y_train_author = to_categorical(y_train[:,1])\n",
    "y_test_author = to_categorical(y_test[:,1])\n"
   ]
  },
  {
   "cell_type": "code",
   "execution_count": 18,
   "metadata": {},
   "outputs": [],
   "source": [
    "# defining the bag-of-words transformer on the text-processed corpus # i.e., text_process() declared in II is executed...\n",
    "bow_transformer=CountVectorizer(max_features = 2500).fit(X_train)\n",
    "# transforming into Bag-of-Words and hence textual data to numeric..\n",
    "text_bow_train=bow_transformer.transform(X_train).toarray()#ONLY TRAINING DATA\n",
    "\n",
    "# transforming into Bag-of-Words and hence textual data to numeric..\n",
    "text_bow_test=bow_transformer.transform(X_test).toarray()#TEST DATA"
   ]
  },
  {
   "cell_type": "code",
   "execution_count": 19,
   "metadata": {},
   "outputs": [
    {
     "data": {
      "text/plain": [
       "(864, 2500)"
      ]
     },
     "metadata": {},
     "output_type": "display_data"
    },
    {
     "data": {
      "text/plain": [
       "(216, 2500)"
      ]
     },
     "metadata": {},
     "output_type": "display_data"
    }
   ],
   "source": [
    "# shape of the x\n",
    "display(text_bow_train.shape)\n",
    "display(text_bow_test.shape)"
   ]
  },
  {
   "cell_type": "code",
   "execution_count": 20,
   "metadata": {},
   "outputs": [],
   "source": [
    "# Build the model with Keras\n",
    "from keras.layers import Input, Dense\n",
    "from keras.models import Model\n",
    "\n",
    "\n",
    "\n",
    "# Create an input layer with 2500 inputs\n",
    "input_tensor = Input((2500,))\n",
    "\n",
    "# Create the first output\n",
    "output_tensor_1 = Dense(1, activation=\"linear\", use_bias=False)(input_tensor)\n",
    "\n",
    "# Create the second output (use the first output and the input tensor as input)\n",
    "output_tensor_2 = Dense(58, activation=\"sigmoid\", use_bias=False)(output_tensor_1)\n",
    "\n",
    "# Create a model with 2 outputs\n",
    "model = Model(input_tensor, [output_tensor_1,output_tensor_2])"
   ]
  },
  {
   "cell_type": "code",
   "execution_count": 21,
   "metadata": {},
   "outputs": [
    {
     "name": "stderr",
     "output_type": "stream",
     "text": [
      "WARNING: Logging before flag parsing goes to stderr.\n",
      "W1217 18:15:09.930331 20456 deprecation.py:323] From C:\\Users\\gwehrm\\AppData\\Roaming\\Python\\Python36\\site-packages\\tensorflow\\python\\ops\\math_grad.py:1250: add_dispatch_support.<locals>.wrapper (from tensorflow.python.ops.array_ops) is deprecated and will be removed in a future version.\n",
      "Instructions for updating:\n",
      "Use tf.where in 2.0, which has the same broadcast rule as np.where\n",
      "W1217 18:15:10.334362 20456 deprecation_wrapper.py:119] From C:\\ProgramData\\Anaconda3\\lib\\site-packages\\keras\\backend\\tensorflow_backend.py:422: The name tf.global_variables is deprecated. Please use tf.compat.v1.global_variables instead.\n",
      "\n"
     ]
    },
    {
     "name": "stdout",
     "output_type": "stream",
     "text": [
      "Epoch 1/50\n",
      "864/864 [==============================] - 0s 240us/step - loss: 68.3219 - dense_1_loss: 63.6667 - dense_2_loss: 5.1385\n",
      "Epoch 2/50\n",
      "864/864 [==============================] - 0s 39us/step - loss: 55.1947 - dense_1_loss: 51.6359 - dense_2_loss: 3.5515\n",
      "Epoch 3/50\n",
      "864/864 [==============================] - 0s 38us/step - loss: 52.1815 - dense_1_loss: 49.9654 - dense_2_loss: 2.3231\n",
      "Epoch 4/50\n",
      "864/864 [==============================] - 0s 41us/step - loss: 50.6541 - dense_1_loss: 49.1781 - dense_2_loss: 2.3064\n",
      "Epoch 5/50\n",
      "864/864 [==============================] - 0s 42us/step - loss: 49.0454 - dense_1_loss: 46.3953 - dense_2_loss: 2.3005\n",
      "Epoch 6/50\n",
      "864/864 [==============================] - 0s 36us/step - loss: 47.5687 - dense_1_loss: 45.2188 - dense_2_loss: 2.2968\n",
      "Epoch 7/50\n",
      "864/864 [==============================] - 0s 37us/step - loss: 46.2913 - dense_1_loss: 43.7088 - dense_2_loss: 2.3021\n",
      "Epoch 8/50\n",
      "864/864 [==============================] - 0s 38us/step - loss: 45.0274 - dense_1_loss: 42.2624 - dense_2_loss: 2.2958\n",
      "Epoch 9/50\n",
      "864/864 [==============================] - 0s 38us/step - loss: 43.8844 - dense_1_loss: 41.7964 - dense_2_loss: 2.2872\n",
      "Epoch 10/50\n",
      "864/864 [==============================] - 0s 38us/step - loss: 42.8300 - dense_1_loss: 40.3876 - dense_2_loss: 2.2876\n",
      "Epoch 11/50\n",
      "864/864 [==============================] - 0s 37us/step - loss: 41.8745 - dense_1_loss: 39.3104 - dense_2_loss: 2.2813\n",
      "Epoch 12/50\n",
      "864/864 [==============================] - 0s 33us/step - loss: 40.9616 - dense_1_loss: 40.6195 - dense_2_loss: 2.2885\n",
      "Epoch 13/50\n",
      "864/864 [==============================] - 0s 35us/step - loss: 40.1050 - dense_1_loss: 39.2883 - dense_2_loss: 2.2859\n",
      "Epoch 14/50\n",
      "864/864 [==============================] - 0s 34us/step - loss: 39.3319 - dense_1_loss: 36.9488 - dense_2_loss: 2.2918\n",
      "Epoch 15/50\n",
      "864/864 [==============================] - 0s 35us/step - loss: 38.5286 - dense_1_loss: 37.2339 - dense_2_loss: 2.2848\n",
      "Epoch 16/50\n",
      "864/864 [==============================] - 0s 35us/step - loss: 37.8667 - dense_1_loss: 35.0469 - dense_2_loss: 2.2959\n",
      "Epoch 17/50\n",
      "864/864 [==============================] - 0s 33us/step - loss: 37.1916 - dense_1_loss: 35.4252 - dense_2_loss: 2.2810\n",
      "Epoch 18/50\n",
      "864/864 [==============================] - 0s 35us/step - loss: 36.5287 - dense_1_loss: 34.3069 - dense_2_loss: 2.3031\n",
      "Epoch 19/50\n",
      "864/864 [==============================] - 0s 43us/step - loss: 36.0263 - dense_1_loss: 35.0944 - dense_2_loss: 2.2935\n",
      "Epoch 20/50\n",
      "864/864 [==============================] - 0s 43us/step - loss: 35.5852 - dense_1_loss: 33.0089 - dense_2_loss: 2.2972\n",
      "Epoch 21/50\n",
      "864/864 [==============================] - 0s 45us/step - loss: 34.9638 - dense_1_loss: 33.5568 - dense_2_loss: 2.3074\n",
      "Epoch 22/50\n",
      "864/864 [==============================] - 0s 42us/step - loss: 34.4279 - dense_1_loss: 33.1134 - dense_2_loss: 2.3078\n",
      "Epoch 23/50\n",
      "864/864 [==============================] - 0s 36us/step - loss: 33.9142 - dense_1_loss: 31.8390 - dense_2_loss: 2.2928\n",
      "Epoch 24/50\n",
      "864/864 [==============================] - 0s 37us/step - loss: 33.4349 - dense_1_loss: 30.4923 - dense_2_loss: 2.3011\n",
      "Epoch 25/50\n",
      "864/864 [==============================] - 0s 37us/step - loss: 32.9501 - dense_1_loss: 30.2053 - dense_2_loss: 2.2925\n",
      "Epoch 26/50\n",
      "864/864 [==============================] - 0s 37us/step - loss: 32.5383 - dense_1_loss: 30.9785 - dense_2_loss: 2.2911\n",
      "Epoch 27/50\n",
      "864/864 [==============================] - 0s 37us/step - loss: 32.1131 - dense_1_loss: 30.0095 - dense_2_loss: 2.2748\n",
      "Epoch 28/50\n",
      "864/864 [==============================] - 0s 38us/step - loss: 31.7023 - dense_1_loss: 29.9700 - dense_2_loss: 2.2808\n",
      "Epoch 29/50\n",
      "864/864 [==============================] - 0s 36us/step - loss: 31.2521 - dense_1_loss: 29.2575 - dense_2_loss: 2.2689\n",
      "Epoch 30/50\n",
      "864/864 [==============================] - 0s 35us/step - loss: 30.8911 - dense_1_loss: 29.3897 - dense_2_loss: 2.2690\n",
      "Epoch 31/50\n",
      "864/864 [==============================] - 0s 35us/step - loss: 30.4459 - dense_1_loss: 28.5649 - dense_2_loss: 2.2842\n",
      "Epoch 32/50\n",
      "864/864 [==============================] - 0s 33us/step - loss: 30.1344 - dense_1_loss: 28.4130 - dense_2_loss: 2.2952\n",
      "Epoch 33/50\n",
      "864/864 [==============================] - 0s 36us/step - loss: 29.7330 - dense_1_loss: 28.0018 - dense_2_loss: 2.2947\n",
      "Epoch 34/50\n",
      "864/864 [==============================] - 0s 37us/step - loss: 29.3488 - dense_1_loss: 27.5961 - dense_2_loss: 2.2890\n",
      "Epoch 35/50\n",
      "864/864 [==============================] - 0s 35us/step - loss: 28.9472 - dense_1_loss: 26.6754 - dense_2_loss: 2.2806\n",
      "Epoch 36/50\n",
      "864/864 [==============================] - 0s 35us/step - loss: 28.6785 - dense_1_loss: 26.0940 - dense_2_loss: 2.2862\n",
      "Epoch 37/50\n",
      "864/864 [==============================] - 0s 37us/step - loss: 28.2968 - dense_1_loss: 26.1819 - dense_2_loss: 2.2877\n",
      "Epoch 38/50\n",
      "864/864 [==============================] - 0s 36us/step - loss: 27.9748 - dense_1_loss: 25.4992 - dense_2_loss: 2.2921\n",
      "Epoch 39/50\n",
      "864/864 [==============================] - 0s 37us/step - loss: 27.7066 - dense_1_loss: 25.6268 - dense_2_loss: 2.2866\n",
      "Epoch 40/50\n",
      "864/864 [==============================] - 0s 36us/step - loss: 27.3450 - dense_1_loss: 25.8164 - dense_2_loss: 2.2800\n",
      "Epoch 41/50\n",
      "864/864 [==============================] - 0s 35us/step - loss: 27.0156 - dense_1_loss: 24.1660 - dense_2_loss: 2.2791\n",
      "Epoch 42/50\n",
      "864/864 [==============================] - 0s 33us/step - loss: 26.7466 - dense_1_loss: 24.4100 - dense_2_loss: 2.2903\n",
      "Epoch 43/50\n",
      "864/864 [==============================] - 0s 35us/step - loss: 26.4091 - dense_1_loss: 24.0300 - dense_2_loss: 2.2724\n",
      "Epoch 44/50\n",
      "864/864 [==============================] - 0s 33us/step - loss: 26.1385 - dense_1_loss: 23.9223 - dense_2_loss: 2.2803\n",
      "Epoch 45/50\n",
      "864/864 [==============================] - 0s 43us/step - loss: 25.8619 - dense_1_loss: 23.1739 - dense_2_loss: 2.2941\n",
      "Epoch 46/50\n",
      "864/864 [==============================] - 0s 43us/step - loss: 25.5512 - dense_1_loss: 23.6954 - dense_2_loss: 2.2999\n",
      "Epoch 47/50\n",
      "864/864 [==============================] - 0s 35us/step - loss: 25.2977 - dense_1_loss: 22.5796 - dense_2_loss: 2.2901\n",
      "Epoch 48/50\n",
      "864/864 [==============================] - 0s 35us/step - loss: 25.1184 - dense_1_loss: 22.6883 - dense_2_loss: 2.2944\n",
      "Epoch 49/50\n",
      "864/864 [==============================] - 0s 33us/step - loss: 24.8556 - dense_1_loss: 22.1199 - dense_2_loss: 2.2904\n",
      "Epoch 50/50\n",
      "864/864 [==============================] - 0s 32us/step - loss: 24.5352 - dense_1_loss: 22.4950 - dense_2_loss: 2.2789\n"
     ]
    },
    {
     "data": {
      "text/plain": [
       "<keras.callbacks.callbacks.History at 0x270eb794f28>"
      ]
     },
     "execution_count": 21,
     "metadata": {},
     "output_type": "execute_result"
    }
   ],
   "source": [
    "# Import the Adam optimizer\n",
    "from keras.optimizers import Adam\n",
    "\n",
    "# Compile the model with 2 losses and the Adam optimzer with a higher learning rate\n",
    "model.compile(loss=['mean_absolute_error', 'categorical_crossentropy'], optimizer= Adam(lr=0.01),) #categorical crossentropy for multiclass\n",
    "\n",
    "# Fit the model to the tournament training data, with 2 inputs and 2 outputs\n",
    "model.fit(text_bow_train,\n",
    "          [y_train_comments,y_train_author],\n",
    "          epochs=50,\n",
    "          verbose=True,\n",
    "          batch_size=50)"
   ]
  },
  {
   "cell_type": "code",
   "execution_count": 70,
   "metadata": {},
   "outputs": [
    {
     "data": {
      "text/plain": [
       "array([0., 0., 0., 0., 0., 1., 0., 0., 0., 0., 0., 0., 0., 0., 0., 0., 0.,\n",
       "       0., 0., 0., 0., 0., 0., 0., 0., 0., 0., 0., 0., 0., 0., 0., 0., 0.,\n",
       "       0., 0., 0., 0., 0., 0., 0., 0., 0., 0., 0., 0., 0., 0., 0., 0., 0.,\n",
       "       0., 0., 0., 0., 0., 0., 0.], dtype=float32)"
      ]
     },
     "execution_count": 70,
     "metadata": {},
     "output_type": "execute_result"
    }
   ],
   "source": []
  },
  {
   "cell_type": "markdown",
   "metadata": {},
   "source": [
    "## Model evaluation"
   ]
  },
  {
   "cell_type": "code",
   "execution_count": 22,
   "metadata": {},
   "outputs": [
    {
     "data": {
      "text/plain": [
       "'RMSE: 72.8183085506071'"
      ]
     },
     "metadata": {},
     "output_type": "display_data"
    },
    {
     "data": {
      "image/png": "[encoded data removed]",
      "text/plain": [
       "<Figure size 432x288 with 1 Axes>"
      ]
     },
     "metadata": {},
     "output_type": "display_data"
    }
   ],
   "source": [
    "# Importing necessary libraries\n",
    "from sklearn.metrics import classification_report\n",
    "from sklearn.metrics import confusion_matrix\n",
    "\n",
    " \n",
    "# getting the predictions of the Validation Set...\n",
    "predictions = model.predict(text_bow_test)\n",
    "# it returns a list with the regression [0] and the classification [1]\n",
    "plt.scatter(predictions[0],y_test_comments)\n",
    "\n",
    "# rmse\n",
    "rmse = np.sqrt(np.mean((predictions[0]-y_test_comments)**2))\n",
    "display(f\"RMSE: {rmse}\")\n",
    "\n",
    "\n",
    "matrix = confusion_matrix(y_test_author.argmax(axis=1), predictions[1].argmax(axis=1))"
   ]
  },
  {
   "cell_type": "code",
   "execution_count": 23,
   "metadata": {},
   "outputs": [
    {
     "name": "stdout",
     "output_type": "stream",
     "text": [
      "             precision    recall  f1-score   support\n",
      "\n",
      "          0       0.00      0.00      0.00         0\n",
      "          1       0.00      0.00      0.00        19\n",
      "          5       0.17      0.16      0.16        25\n",
      "          7       0.14      0.23      0.17        30\n",
      "         15       0.00      0.00      0.00        17\n",
      "         16       0.10      0.67      0.18        21\n",
      "         19       0.00      0.00      0.00        42\n",
      "         28       0.00      0.00      0.00        10\n",
      "         42       0.00      0.00      0.00        24\n",
      "         48       0.00      0.00      0.00         0\n",
      "         49       0.00      0.00      0.00        16\n",
      "         57       0.00      0.00      0.00        12\n",
      "\n",
      "avg / total       0.05      0.12      0.06       216\n",
      "\n"
     ]
    },
    {
     "name": "stderr",
     "output_type": "stream",
     "text": [
      "C:\\ProgramData\\Anaconda3\\lib\\site-packages\\sklearn\\metrics\\classification.py:1135: UndefinedMetricWarning: Precision and F-score are ill-defined and being set to 0.0 in labels with no predicted samples.\n",
      "  'precision', 'predicted', average, warn_for)\n",
      "C:\\ProgramData\\Anaconda3\\lib\\site-packages\\sklearn\\metrics\\classification.py:1137: UndefinedMetricWarning: Recall and F-score are ill-defined and being set to 0.0 in labels with no true samples.\n",
      "  'recall', 'true', average, warn_for)\n"
     ]
    },
    {
     "data": {
      "text/plain": [
       "array([[ 0,  0,  0,  0,  0,  0,  0,  0,  0,  0,  0,  0],\n",
       "       [ 0,  0,  0,  6,  0, 13,  0,  0,  0,  0,  0,  0],\n",
       "       [ 0,  0,  4,  4,  0, 16,  0,  0,  0,  1,  0,  0],\n",
       "       [ 0,  0,  5,  7,  0, 18,  0,  0,  0,  0,  0,  0],\n",
       "       [ 0,  0,  0,  3,  0, 14,  0,  0,  0,  0,  0,  0],\n",
       "       [ 0,  0,  0,  7,  0, 14,  0,  0,  0,  0,  0,  0],\n",
       "       [ 0,  0, 10, 12,  0, 20,  0,  0,  0,  0,  0,  0],\n",
       "       [ 0,  0,  1,  1,  0,  8,  0,  0,  0,  0,  0,  0],\n",
       "       [ 0,  0,  0,  4,  0, 20,  0,  0,  0,  0,  0,  0],\n",
       "       [ 0,  0,  0,  0,  0,  0,  0,  0,  0,  0,  0,  0],\n",
       "       [ 0,  0,  0,  6,  0, 10,  0,  0,  0,  0,  0,  0],\n",
       "       [ 1,  0,  4,  1,  0,  5,  0,  0,  0,  1,  0,  0]], dtype=int64)"
      ]
     },
     "metadata": {},
     "output_type": "display_data"
    }
   ],
   "source": [
    "print(classification_report(y_test_author.argmax(axis=1), predictions[1].argmax(axis=1)))\n",
    "display(matrix)"
   ]
  },
  {
   "cell_type": "markdown",
   "metadata": {},
   "source": [
    "The Model is really bad in classifying the authors. However, this is done solely based on the prediction of the number of comments. Let's see how the model performs when the first input layer is as well available for the second prediction of the author.\n"
   ]
  },
  {
   "cell_type": "markdown",
   "metadata": {},
   "source": [
    "## Model 2 - "
   ]
  },
  {
   "cell_type": "code",
   "execution_count": 84,
   "metadata": {},
   "outputs": [],
   "source": [
    "# Build the model with Keras\n",
    "from keras.layers import Input, Dense, Concatenate, concatenate, BatchNormalization\n",
    "from keras.models import Model\n",
    "\n",
    "\n",
    "# Create an input layer with 2500 inputs\n",
    "input_tensor = Input((2500,))\n",
    "\n",
    "# Create the first output\n",
    "output_tensor_1 = Dense(1, activation=\"linear\", use_bias=False)(input_tensor)\n",
    "\n",
    "# concatenate ouput 1 and the input tensor\n",
    "output_tensor_1_n = BatchNormalization()(output_tensor_1)\n",
    "\n",
    "combined_tensor = concatenate([input_tensor, output_tensor_1_n])\n",
    "\n",
    "# Create the second output (use the first output and the input tensor as input)\n",
    "output_tensor_2_1 = Dense(500, activation=\"sigmoid\", use_bias=False)(combined_tensor)\n",
    "\n",
    "# Create the second output (use the first output and the input tensor as input)\n",
    "output_tensor_2 = Dense(58, activation=\"sigmoid\", use_bias=False)(combined_tensor)\n",
    "\n",
    "# Create a model with 2 outputs\n",
    "model = Model(input_tensor, [output_tensor_1,output_tensor_2])"
   ]
  },
  {
   "cell_type": "code",
   "execution_count": 85,
   "metadata": {},
   "outputs": [
    {
     "name": "stdout",
     "output_type": "stream",
     "text": [
      "Epoch 1/10\n",
      "864/864 [==============================] - 0s 538us/step - loss: 79.1667 - dense_31_loss: 75.3676 - dense_33_loss: 3.5024\n",
      "Epoch 2/10\n",
      "864/864 [==============================] - 0s 62us/step - loss: 73.0076 - dense_31_loss: 70.0981 - dense_33_loss: 2.3324\n",
      "Epoch 3/10\n",
      "864/864 [==============================] - 0s 65us/step - loss: 68.6265 - dense_31_loss: 66.9468 - dense_33_loss: 2.2106\n",
      "Epoch 4/10\n",
      "864/864 [==============================] - 0s 73us/step - loss: 64.9513 - dense_31_loss: 62.0688 - dense_33_loss: 2.1264\n",
      "Epoch 5/10\n",
      "864/864 [==============================] - 0s 65us/step - loss: 61.8900 - dense_31_loss: 59.4803 - dense_33_loss: 2.0638\n",
      "Epoch 6/10\n",
      "864/864 [==============================] - 0s 69us/step - loss: 59.3016 - dense_31_loss: 57.5561 - dense_33_loss: 2.0113\n",
      "Epoch 7/10\n",
      "864/864 [==============================] - 0s 66us/step - loss: 57.3348 - dense_31_loss: 55.8750 - dense_33_loss: 1.9715\n",
      "Epoch 8/10\n",
      "864/864 [==============================] - 0s 63us/step - loss: 55.8974 - dense_31_loss: 53.6855 - dense_33_loss: 1.8975\n",
      "Epoch 9/10\n",
      "864/864 [==============================] - 0s 72us/step - loss: 54.8561 - dense_31_loss: 51.8545 - dense_33_loss: 1.8317\n",
      "Epoch 10/10\n",
      "864/864 [==============================] - 0s 66us/step - loss: 53.9876 - dense_31_loss: 52.0657 - dense_33_loss: 1.7837\n"
     ]
    },
    {
     "data": {
      "text/plain": [
       "<keras.callbacks.callbacks.History at 0x270eef406a0>"
      ]
     },
     "execution_count": 85,
     "metadata": {},
     "output_type": "execute_result"
    }
   ],
   "source": [
    "# Import the Adam optimizer\n",
    "from keras.optimizers import Adam\n",
    "\n",
    "# Compile the model with 2 losses and the Adam optimzer with a higher learning rate\n",
    "model.compile(loss=['mean_absolute_error', 'categorical_crossentropy'], optimizer= Adam(lr=0.01),) #categorical crossentropy for multiclass\n",
    "\n",
    "# Fit the model to the tournament training data, with 2 inputs and 2 outputs\n",
    "model.fit(text_bow_train,\n",
    "          [y_train_comments,y_train_author],\n",
    "          epochs=10,\n",
    "          verbose=True,\n",
    "          batch_size=500)"
   ]
  },
  {
   "cell_type": "code",
   "execution_count": 86,
   "metadata": {},
   "outputs": [
    {
     "data": {
      "text/plain": [
       "'RMSE: 71.45537904761875'"
      ]
     },
     "metadata": {},
     "output_type": "display_data"
    },
    {
     "data": {
      "image/png": "[encoded data removed]",
      "text/plain": [
       "<Figure size 432x288 with 1 Axes>"
      ]
     },
     "metadata": {},
     "output_type": "display_data"
    }
   ],
   "source": [
    "# Importing necessary libraries\n",
    "from sklearn.metrics import classification_report\n",
    "from sklearn.metrics import confusion_matrix\n",
    "\n",
    " \n",
    "# getting the predictions of the Validation Set...\n",
    "predictions = model.predict(text_bow_test)\n",
    "# it returns a list with the regression [0] and the classification [1]\n",
    "plt.scatter(predictions[0],y_test_comments)\n",
    "\n",
    "# rmse\n",
    "rmse = np.sqrt(np.mean((predictions[0]-y_test_comments)**2))\n",
    "display(f\"RMSE: {rmse}\")\n",
    "\n",
    "\n",
    "matrix = confusion_matrix(y_test_author.argmax(axis=1), predictions[1].argmax(axis=1))"
   ]
  },
  {
   "cell_type": "code",
   "execution_count": 87,
   "metadata": {
    "scrolled": true
   },
   "outputs": [
    {
     "name": "stdout",
     "output_type": "stream",
     "text": [
      "             precision    recall  f1-score   support\n",
      "\n",
      "          1       0.00      0.00      0.00        19\n",
      "          5       0.00      0.00      0.00        25\n",
      "          7       0.23      0.77      0.36        30\n",
      "         15       0.00      0.00      0.00        17\n",
      "         16       0.20      0.52      0.29        21\n",
      "         19       0.25      0.36      0.29        42\n",
      "         28       0.00      0.00      0.00        10\n",
      "         42       0.00      0.00      0.00        24\n",
      "         49       1.00      0.06      0.12        16\n",
      "         57       0.00      0.00      0.00        12\n",
      "\n",
      "avg / total       0.17      0.23      0.14       216\n",
      "\n"
     ]
    },
    {
     "name": "stderr",
     "output_type": "stream",
     "text": [
      "C:\\ProgramData\\Anaconda3\\lib\\site-packages\\sklearn\\metrics\\classification.py:1135: UndefinedMetricWarning: Precision and F-score are ill-defined and being set to 0.0 in labels with no predicted samples.\n",
      "  'precision', 'predicted', average, warn_for)\n"
     ]
    },
    {
     "data": {
      "text/plain": [
       "array([[ 0,  0,  4,  0, 11,  4,  0,  0,  0,  0],\n",
       "       [ 0,  0,  9,  0,  6, 10,  0,  0,  0,  0],\n",
       "       [ 0,  0, 23,  0,  3,  4,  0,  0,  0,  0],\n",
       "       [ 0,  0,  8,  0,  8,  1,  0,  0,  0,  0],\n",
       "       [ 0,  0,  4,  0, 11,  6,  0,  0,  0,  0],\n",
       "       [ 0,  0, 21,  0,  6, 15,  0,  0,  0,  0],\n",
       "       [ 0,  0,  1,  0,  4,  5,  0,  0,  0,  0],\n",
       "       [ 0,  0, 15,  0,  1,  8,  0,  0,  0,  0],\n",
       "       [ 0,  0,  6,  0,  4,  5,  0,  0,  1,  0],\n",
       "       [ 0,  0,  7,  0,  2,  3,  0,  0,  0,  0]], dtype=int64)"
      ]
     },
     "metadata": {},
     "output_type": "display_data"
    }
   ],
   "source": [
    "print(classification_report(y_test_author.argmax(axis=1), predictions[1].argmax(axis=1)))\n",
    "display(matrix)"
   ]
  },
  {
   "cell_type": "markdown",
   "metadata": {},
   "source": [
    "The accuracy increased dramatically with an additional layer"
   ]
  }
 ],
 "metadata": {
  "kernelspec": {
   "display_name": "Python 3",
   "language": "python",
   "name": "python3"
  },
  "language_info": {
   "codemirror_mode": {
    "name": "ipython",
    "version": 3
   },
   "file_extension": ".py",
   "mimetype": "text/x-python",
   "name": "python",
   "nbconvert_exporter": "python",
   "pygments_lexer": "ipython3",
   "version": "3.6.5"
  }
 },
 "nbformat": 4,
 "nbformat_minor": 2
}
