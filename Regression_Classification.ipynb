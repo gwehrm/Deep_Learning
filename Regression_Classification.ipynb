{
 "cells": [
  {
   "cell_type": "markdown",
   "metadata": {},
   "source": [
    "# Regression and Classification in one Model\n",
    "\n",
    "Goal is to use one model for a regression and a classification. For that I go with the articles from watson.ch again. I want to predict the author of the article (classification) and the number of comments (regression) based on the article. "
   ]
  },
  {
   "cell_type": "markdown",
   "metadata": {},
   "source": [
    "## Data"
   ]
  },
  {
   "cell_type": "code",
   "execution_count": 1,
   "metadata": {},
   "outputs": [],
   "source": [
    "import pandas as pd\n",
    "#import Python libaries needed for training embbeded vectors \n",
    "from gensim.models.word2vec import LineSentence\n",
    "from gensim.models import Word2Vec\n",
    "import time # for checking how long the training process takes\n",
    "import re\n",
    "import string\n",
    "from sklearn.manifold import TSNE\n",
    "import matplotlib.pyplot as plt\n",
    "import matplotlib.cm as cm\n",
    "import numpy as np\n",
    "import ipynb.fs.full.Classifier as cl#from https://github.com/ptnplanet/NLTK-Contributions/blob/master/ClassifierBasedGermanTagger/ClassifierBasedGermanTagger.py\n",
    "import random\n",
    "% matplotlib inline"
   ]
  },
  {
   "cell_type": "code",
   "execution_count": 28,
   "metadata": {},
   "outputs": [
    {
     "data": {
      "text/html": [
       "<div>\n",
       "<style scoped>\n",
       "    .dataframe tbody tr th:only-of-type {\n",
       "        vertical-align: middle;\n",
       "    }\n",
       "\n",
       "    .dataframe tbody tr th {\n",
       "        vertical-align: top;\n",
       "    }\n",
       "\n",
       "    .dataframe thead th {\n",
       "        text-align: right;\n",
       "    }\n",
       "</style>\n",
       "<table border=\"1\" class=\"dataframe\">\n",
       "  <thead>\n",
       "    <tr style=\"text-align: right;\">\n",
       "      <th></th>\n",
       "      <th>title</th>\n",
       "      <th>author</th>\n",
       "      <th>date</th>\n",
       "      <th>nmbr_comments</th>\n",
       "      <th>themes</th>\n",
       "      <th>article</th>\n",
       "    </tr>\n",
       "  </thead>\n",
       "  <tbody>\n",
       "    <tr>\n",
       "      <th>0</th>\n",
       "      <td>Tourismus-Professor pendelt mit Flugzeug zur A...</td>\n",
       "      <td>no_author</td>\n",
       "      <td>28.03.19, 22:15 28.03.19, 22:40</td>\n",
       "      <td>19</td>\n",
       "      <td>['Schweiz', 'Gesellschaft &amp; Politik', 'Klima']</td>\n",
       "      <td>['Naaa, wie kommt ihr so zur Uni? Mit dem Fahr...</td>\n",
       "    </tr>\n",
       "    <tr>\n",
       "      <th>1</th>\n",
       "      <td>no_title</td>\n",
       "      <td>no_author</td>\n",
       "      <td>no_date</td>\n",
       "      <td>no_comments</td>\n",
       "      <td>[]</td>\n",
       "      <td>['\\r\\n\\t\\tMit deiner Anmeldung erklärst du dic...</td>\n",
       "    </tr>\n",
       "    <tr>\n",
       "      <th>2</th>\n",
       "      <td>Anstatt mit Bus und Zug fahren mehr Menschen m...</td>\n",
       "      <td>no_author</td>\n",
       "      <td>28.03.19, 17:39</td>\n",
       "      <td>29</td>\n",
       "      <td>['Schweiz', 'Gesellschaft &amp; Politik', 'Mobilit...</td>\n",
       "      <td>['\\nDer Ausbau des öffentlichen Verkehrs würde...</td>\n",
       "    </tr>\n",
       "    <tr>\n",
       "      <th>3</th>\n",
       "      <td>Über 80'000 Franken bei Online-Bank N26 geklau...</td>\n",
       "      <td>no_author</td>\n",
       "      <td>28.03.19, 17:34</td>\n",
       "      <td>18</td>\n",
       "      <td>['Digital', 'Schweiz', 'Datenschutz', 'Deutsch...</td>\n",
       "      <td>['\\nDie gefeierte Online-Bank N26 verspielt ge...</td>\n",
       "    </tr>\n",
       "    <tr>\n",
       "      <th>4</th>\n",
       "      <td>Der Wolf ist zurück – was auch Städter wissen ...</td>\n",
       "      <td>no_author</td>\n",
       "      <td>28.03.19, 16:19</td>\n",
       "      <td>45</td>\n",
       "      <td>['Schweiz', 'Wissen', 'Aargau', 'Natur', 'Tier']</td>\n",
       "      <td>['\\nDer gesetzliche Schutz des Wolfes wird der...</td>\n",
       "    </tr>\n",
       "  </tbody>\n",
       "</table>\n",
       "</div>"
      ],
      "text/plain": [
       "                                               title     author  \\\n",
       "0  Tourismus-Professor pendelt mit Flugzeug zur A...  no_author   \n",
       "1                                           no_title  no_author   \n",
       "2  Anstatt mit Bus und Zug fahren mehr Menschen m...  no_author   \n",
       "3  Über 80'000 Franken bei Online-Bank N26 geklau...  no_author   \n",
       "4  Der Wolf ist zurück – was auch Städter wissen ...  no_author   \n",
       "\n",
       "                              date nmbr_comments  \\\n",
       "0  28.03.19, 22:15 28.03.19, 22:40            19   \n",
       "1                          no_date   no_comments   \n",
       "2                 28.03.19, 17:39             29   \n",
       "3                 28.03.19, 17:34             18   \n",
       "4                 28.03.19, 16:19             45   \n",
       "\n",
       "                                              themes  \\\n",
       "0     ['Schweiz', 'Gesellschaft & Politik', 'Klima']   \n",
       "1                                                 []   \n",
       "2  ['Schweiz', 'Gesellschaft & Politik', 'Mobilit...   \n",
       "3  ['Digital', 'Schweiz', 'Datenschutz', 'Deutsch...   \n",
       "4   ['Schweiz', 'Wissen', 'Aargau', 'Natur', 'Tier']   \n",
       "\n",
       "                                             article  \n",
       "0  ['Naaa, wie kommt ihr so zur Uni? Mit dem Fahr...  \n",
       "1  ['\\r\\n\\t\\tMit deiner Anmeldung erklärst du dic...  \n",
       "2  ['\\nDer Ausbau des öffentlichen Verkehrs würde...  \n",
       "3  ['\\nDie gefeierte Online-Bank N26 verspielt ge...  \n",
       "4  ['\\nDer gesetzliche Schutz des Wolfes wird der...  "
      ]
     },
     "execution_count": 28,
     "metadata": {},
     "output_type": "execute_result"
    }
   ],
   "source": [
    "# load the dataset\n",
    "articles = pd.read_csv(\"C:\\\\Users\\\\gwehrm\\\\Documents\\\\Repos\\\\watson_analysis\\\\watson_schweiz.csv\",sep = \";\")\n",
    "articles.head(5)"
   ]
  },
  {
   "cell_type": "code",
   "execution_count": 132,
   "metadata": {},
   "outputs": [
    {
     "name": "stderr",
     "output_type": "stream",
     "text": [
      "C:\\ProgramData\\Anaconda3\\lib\\site-packages\\ipykernel_launcher.py:10: SettingWithCopyWarning: \n",
      "A value is trying to be set on a copy of a slice from a DataFrame.\n",
      "Try using .loc[row_indexer,col_indexer] = value instead\n",
      "\n",
      "See the caveats in the documentation: http://pandas.pydata.org/pandas-docs/stable/indexing.html#indexing-view-versus-copy\n",
      "  # Remove the CWD from sys.path while we load stuff.\n"
     ]
    },
    {
     "data": {
      "text/html": [
       "<div>\n",
       "<style scoped>\n",
       "    .dataframe tbody tr th:only-of-type {\n",
       "        vertical-align: middle;\n",
       "    }\n",
       "\n",
       "    .dataframe tbody tr th {\n",
       "        vertical-align: top;\n",
       "    }\n",
       "\n",
       "    .dataframe thead th {\n",
       "        text-align: right;\n",
       "    }\n",
       "</style>\n",
       "<table border=\"1\" class=\"dataframe\">\n",
       "  <thead>\n",
       "    <tr style=\"text-align: right;\">\n",
       "      <th></th>\n",
       "      <th>title</th>\n",
       "      <th>date</th>\n",
       "      <th>nmbr_comments</th>\n",
       "      <th>themes</th>\n",
       "      <th>article</th>\n",
       "    </tr>\n",
       "    <tr>\n",
       "      <th>author</th>\n",
       "      <th></th>\n",
       "      <th></th>\n",
       "      <th></th>\n",
       "      <th></th>\n",
       "      <th></th>\n",
       "    </tr>\n",
       "  </thead>\n",
       "  <tbody>\n",
       "    <tr>\n",
       "      <th>1</th>\n",
       "      <td>63</td>\n",
       "      <td>63</td>\n",
       "      <td>63</td>\n",
       "      <td>63</td>\n",
       "      <td>63</td>\n",
       "    </tr>\n",
       "    <tr>\n",
       "      <th>5</th>\n",
       "      <td>113</td>\n",
       "      <td>113</td>\n",
       "      <td>113</td>\n",
       "      <td>113</td>\n",
       "      <td>113</td>\n",
       "    </tr>\n",
       "    <tr>\n",
       "      <th>7</th>\n",
       "      <td>149</td>\n",
       "      <td>149</td>\n",
       "      <td>149</td>\n",
       "      <td>149</td>\n",
       "      <td>149</td>\n",
       "    </tr>\n",
       "    <tr>\n",
       "      <th>15</th>\n",
       "      <td>104</td>\n",
       "      <td>104</td>\n",
       "      <td>104</td>\n",
       "      <td>104</td>\n",
       "      <td>104</td>\n",
       "    </tr>\n",
       "    <tr>\n",
       "      <th>16</th>\n",
       "      <td>152</td>\n",
       "      <td>152</td>\n",
       "      <td>152</td>\n",
       "      <td>152</td>\n",
       "      <td>152</td>\n",
       "    </tr>\n",
       "    <tr>\n",
       "      <th>19</th>\n",
       "      <td>155</td>\n",
       "      <td>155</td>\n",
       "      <td>155</td>\n",
       "      <td>155</td>\n",
       "      <td>155</td>\n",
       "    </tr>\n",
       "    <tr>\n",
       "      <th>28</th>\n",
       "      <td>52</td>\n",
       "      <td>52</td>\n",
       "      <td>52</td>\n",
       "      <td>52</td>\n",
       "      <td>52</td>\n",
       "    </tr>\n",
       "    <tr>\n",
       "      <th>42</th>\n",
       "      <td>133</td>\n",
       "      <td>133</td>\n",
       "      <td>133</td>\n",
       "      <td>133</td>\n",
       "      <td>133</td>\n",
       "    </tr>\n",
       "    <tr>\n",
       "      <th>49</th>\n",
       "      <td>99</td>\n",
       "      <td>99</td>\n",
       "      <td>99</td>\n",
       "      <td>99</td>\n",
       "      <td>99</td>\n",
       "    </tr>\n",
       "    <tr>\n",
       "      <th>57</th>\n",
       "      <td>60</td>\n",
       "      <td>60</td>\n",
       "      <td>60</td>\n",
       "      <td>60</td>\n",
       "      <td>60</td>\n",
       "    </tr>\n",
       "  </tbody>\n",
       "</table>\n",
       "</div>"
      ],
      "text/plain": [
       "        title  date  nmbr_comments  themes  article\n",
       "author                                             \n",
       "1          63    63             63      63       63\n",
       "5         113   113            113     113      113\n",
       "7         149   149            149     149      149\n",
       "15        104   104            104     104      104\n",
       "16        152   152            152     152      152\n",
       "19        155   155            155     155      155\n",
       "28         52    52             52      52       52\n",
       "42        133   133            133     133      133\n",
       "49         99    99             99      99       99\n",
       "57         60    60             60      60       60"
      ]
     },
     "metadata": {},
     "output_type": "display_data"
    }
   ],
   "source": [
    "# filter no_author\n",
    "data_reduced = articles[-articles['author'].str.contains(\"no_author\")]\n",
    "# authors_article = data_reduced.groupby('author').count().reset_index()\n",
    "# for simplicity I will reduce the number of authors. I set a threshold of minimum 50 articles \n",
    "\n",
    "\n",
    "# Importing necessary libraries\n",
    "from sklearn.preprocessing import LabelEncoder\n",
    "labelencoder = LabelEncoder()\n",
    "data_reduced[\"author\"] = labelencoder.fit_transform(data_reduced[\"author\"])\n",
    "\n",
    "\n",
    "g = data_reduced.groupby('author')\n",
    "data_reduced = g.filter(lambda x: len(x) > 50).reset_index(drop = True)\n",
    "display(data_reduced.groupby('author').count())"
   ]
  },
  {
   "cell_type": "code",
   "execution_count": 133,
   "metadata": {},
   "outputs": [
    {
     "data": {
      "text/html": [
       "<div>\n",
       "<style scoped>\n",
       "    .dataframe tbody tr th:only-of-type {\n",
       "        vertical-align: middle;\n",
       "    }\n",
       "\n",
       "    .dataframe tbody tr th {\n",
       "        vertical-align: top;\n",
       "    }\n",
       "\n",
       "    .dataframe thead th {\n",
       "        text-align: right;\n",
       "    }\n",
       "</style>\n",
       "<table border=\"1\" class=\"dataframe\">\n",
       "  <thead>\n",
       "    <tr style=\"text-align: right;\">\n",
       "      <th></th>\n",
       "      <th>title</th>\n",
       "      <th>author</th>\n",
       "      <th>date</th>\n",
       "      <th>nmbr_comments</th>\n",
       "      <th>themes</th>\n",
       "      <th>article</th>\n",
       "    </tr>\n",
       "  </thead>\n",
       "  <tbody>\n",
       "    <tr>\n",
       "      <th>0</th>\n",
       "      <td>Zielscheibe der Wut – Tamara Funiciello auf de...</td>\n",
       "      <td>49</td>\n",
       "      <td>28.03.19, 11:28 28.03.19, 12:40</td>\n",
       "      <td>392</td>\n",
       "      <td>['Schweiz', 'Facebook', 'Feminismus', 'Gesells...</td>\n",
       "      <td>['\\nTamara Funiciello: Juso-Präsidentin und Zi...</td>\n",
       "    </tr>\n",
       "    <tr>\n",
       "      <th>1</th>\n",
       "      <td>Der Hass im Netz nimmt zu – was bedeutet das f...</td>\n",
       "      <td>57</td>\n",
       "      <td>27.03.19, 10:29 27.03.19, 18:58</td>\n",
       "      <td>26</td>\n",
       "      <td>['Schweiz', 'Best of watson', 'Facebook', 'Ges...</td>\n",
       "      <td>['Die aktuelle Kriminalstatistik zeigt deutlic...</td>\n",
       "    </tr>\n",
       "    <tr>\n",
       "      <th>2</th>\n",
       "      <td>Der Kampf um den Waschturm  – ein Zürcher Krie...</td>\n",
       "      <td>57</td>\n",
       "      <td>26.03.19, 09:26 27.03.19, 01:36</td>\n",
       "      <td>70</td>\n",
       "      <td>['Schweiz', 'Best of watson', 'Gesellschaft &amp; ...</td>\n",
       "      <td>['Tatort: Ein Mehrfamilienhaus in Zürich Wipki...</td>\n",
       "    </tr>\n",
       "    <tr>\n",
       "      <th>3</th>\n",
       "      <td>«Das ist erst der Anfang»: So reagiert die Kli...</td>\n",
       "      <td>1</td>\n",
       "      <td>25.03.19, 18:42 26.03.19, 11:01</td>\n",
       "      <td>41</td>\n",
       "      <td>['Schweiz', 'Best of watson', 'Klima', 'Klimas...</td>\n",
       "      <td>['Die Klimastreik-Bewegung feiert mit dem Erdr...</td>\n",
       "    </tr>\n",
       "    <tr>\n",
       "      <th>4</th>\n",
       "      <td>Warum das Klima rockt und Europa nicht: 5 Erke...</td>\n",
       "      <td>42</td>\n",
       "      <td>25.03.19, 14:53 26.03.19, 06:49</td>\n",
       "      <td>33</td>\n",
       "      <td>['Schweiz', 'BDP', 'Best of watson', 'CVP', 'F...</td>\n",
       "      <td>['\\nDie Parteipräsidenten Konrad Langhart (SVP...</td>\n",
       "    </tr>\n",
       "  </tbody>\n",
       "</table>\n",
       "</div>"
      ],
      "text/plain": [
       "                                               title  author  \\\n",
       "0  Zielscheibe der Wut – Tamara Funiciello auf de...      49   \n",
       "1  Der Hass im Netz nimmt zu – was bedeutet das f...      57   \n",
       "2  Der Kampf um den Waschturm  – ein Zürcher Krie...      57   \n",
       "3  «Das ist erst der Anfang»: So reagiert die Kli...       1   \n",
       "4  Warum das Klima rockt und Europa nicht: 5 Erke...      42   \n",
       "\n",
       "                              date nmbr_comments  \\\n",
       "0  28.03.19, 11:28 28.03.19, 12:40           392   \n",
       "1  27.03.19, 10:29 27.03.19, 18:58            26   \n",
       "2  26.03.19, 09:26 27.03.19, 01:36            70   \n",
       "3  25.03.19, 18:42 26.03.19, 11:01            41   \n",
       "4  25.03.19, 14:53 26.03.19, 06:49            33   \n",
       "\n",
       "                                              themes  \\\n",
       "0  ['Schweiz', 'Facebook', 'Feminismus', 'Gesells...   \n",
       "1  ['Schweiz', 'Best of watson', 'Facebook', 'Ges...   \n",
       "2  ['Schweiz', 'Best of watson', 'Gesellschaft & ...   \n",
       "3  ['Schweiz', 'Best of watson', 'Klima', 'Klimas...   \n",
       "4  ['Schweiz', 'BDP', 'Best of watson', 'CVP', 'F...   \n",
       "\n",
       "                                             article  \n",
       "0  ['\\nTamara Funiciello: Juso-Präsidentin und Zi...  \n",
       "1  ['Die aktuelle Kriminalstatistik zeigt deutlic...  \n",
       "2  ['Tatort: Ein Mehrfamilienhaus in Zürich Wipki...  \n",
       "3  ['Die Klimastreik-Bewegung feiert mit dem Erdr...  \n",
       "4  ['\\nDie Parteipräsidenten Konrad Langhart (SVP...  "
      ]
     },
     "execution_count": 133,
     "metadata": {},
     "output_type": "execute_result"
    }
   ],
   "source": [
    "data_reduced.head()"
   ]
  },
  {
   "cell_type": "code",
   "execution_count": 134,
   "metadata": {},
   "outputs": [],
   "source": [
    "# it looks quite alright. only problem is that we have the \\n in front. with string replace to solve\n",
    "data_reduced[\"article\"] = [art.replace(\"\\\\n\",\"\").replace(\"\\n\",\"\").replace(\"\\r\",\"\").replace(\"\\t\",\"\") for art in data_reduced[\"article\"]]"
   ]
  },
  {
   "cell_type": "code",
   "execution_count": 135,
   "metadata": {},
   "outputs": [],
   "source": [
    "# remove punctuation\n",
    "exclude = set(string.punctuation)\n",
    "for index,s in enumerate(data_reduced[\"article\"]):\n",
    "    exclude = set(string.punctuation)\n",
    "    data_reduced.loc[index,\"article\"]= ''.join(ch for ch in s if ch not in exclude)"
   ]
  },
  {
   "cell_type": "code",
   "execution_count": 183,
   "metadata": {},
   "outputs": [
    {
     "data": {
      "text/html": [
       "<div>\n",
       "<style scoped>\n",
       "    .dataframe tbody tr th:only-of-type {\n",
       "        vertical-align: middle;\n",
       "    }\n",
       "\n",
       "    .dataframe tbody tr th {\n",
       "        vertical-align: top;\n",
       "    }\n",
       "\n",
       "    .dataframe thead th {\n",
       "        text-align: right;\n",
       "    }\n",
       "</style>\n",
       "<table border=\"1\" class=\"dataframe\">\n",
       "  <thead>\n",
       "    <tr style=\"text-align: right;\">\n",
       "      <th></th>\n",
       "      <th>title</th>\n",
       "      <th>author</th>\n",
       "      <th>date</th>\n",
       "      <th>nmbr_comments</th>\n",
       "      <th>themes</th>\n",
       "      <th>article</th>\n",
       "    </tr>\n",
       "  </thead>\n",
       "  <tbody>\n",
       "    <tr>\n",
       "      <th>0</th>\n",
       "      <td>Zielscheibe der Wut – Tamara Funiciello auf de...</td>\n",
       "      <td>49</td>\n",
       "      <td>28.03.19, 11:28 28.03.19, 12:40</td>\n",
       "      <td>392</td>\n",
       "      <td>['Schweiz', 'Facebook', 'Feminismus', 'Gesells...</td>\n",
       "      <td>[Tamara, Funiciello, JusoPräsidentin, Zielsche...</td>\n",
       "    </tr>\n",
       "    <tr>\n",
       "      <th>1</th>\n",
       "      <td>Der Hass im Netz nimmt zu – was bedeutet das f...</td>\n",
       "      <td>57</td>\n",
       "      <td>27.03.19, 10:29 27.03.19, 18:58</td>\n",
       "      <td>26</td>\n",
       "      <td>['Schweiz', 'Best of watson', 'Facebook', 'Ges...</td>\n",
       "      <td>[aktuell, Kriminalstatistik, zeigen, deutlich,...</td>\n",
       "    </tr>\n",
       "    <tr>\n",
       "      <th>2</th>\n",
       "      <td>Der Kampf um den Waschturm  – ein Zürcher Krie...</td>\n",
       "      <td>57</td>\n",
       "      <td>26.03.19, 09:26 27.03.19, 01:36</td>\n",
       "      <td>70</td>\n",
       "      <td>['Schweiz', 'Best of watson', 'Gesellschaft &amp; ...</td>\n",
       "      <td>[Tatort, Mehrfamilienhaus, Zürich, Wipkingen, ...</td>\n",
       "    </tr>\n",
       "    <tr>\n",
       "      <th>3</th>\n",
       "      <td>«Das ist erst der Anfang»: So reagiert die Kli...</td>\n",
       "      <td>1</td>\n",
       "      <td>25.03.19, 18:42 26.03.19, 11:01</td>\n",
       "      <td>41</td>\n",
       "      <td>['Schweiz', 'Best of watson', 'Klima', 'Klimas...</td>\n",
       "      <td>[KlimastreikBewegung, feiern, Erdrutschsieg, Ö...</td>\n",
       "    </tr>\n",
       "    <tr>\n",
       "      <th>4</th>\n",
       "      <td>Warum das Klima rockt und Europa nicht: 5 Erke...</td>\n",
       "      <td>42</td>\n",
       "      <td>25.03.19, 14:53 26.03.19, 06:49</td>\n",
       "      <td>33</td>\n",
       "      <td>['Schweiz', 'BDP', 'Best of watson', 'CVP', 'F...</td>\n",
       "      <td>[Parteipräsidenten, Konrad, Langhart, SVP, lin...</td>\n",
       "    </tr>\n",
       "  </tbody>\n",
       "</table>\n",
       "</div>"
      ],
      "text/plain": [
       "                                               title  author  \\\n",
       "0  Zielscheibe der Wut – Tamara Funiciello auf de...      49   \n",
       "1  Der Hass im Netz nimmt zu – was bedeutet das f...      57   \n",
       "2  Der Kampf um den Waschturm  – ein Zürcher Krie...      57   \n",
       "3  «Das ist erst der Anfang»: So reagiert die Kli...       1   \n",
       "4  Warum das Klima rockt und Europa nicht: 5 Erke...      42   \n",
       "\n",
       "                              date nmbr_comments  \\\n",
       "0  28.03.19, 11:28 28.03.19, 12:40           392   \n",
       "1  27.03.19, 10:29 27.03.19, 18:58            26   \n",
       "2  26.03.19, 09:26 27.03.19, 01:36            70   \n",
       "3  25.03.19, 18:42 26.03.19, 11:01            41   \n",
       "4  25.03.19, 14:53 26.03.19, 06:49            33   \n",
       "\n",
       "                                              themes  \\\n",
       "0  ['Schweiz', 'Facebook', 'Feminismus', 'Gesells...   \n",
       "1  ['Schweiz', 'Best of watson', 'Facebook', 'Ges...   \n",
       "2  ['Schweiz', 'Best of watson', 'Gesellschaft & ...   \n",
       "3  ['Schweiz', 'Best of watson', 'Klima', 'Klimas...   \n",
       "4  ['Schweiz', 'BDP', 'Best of watson', 'CVP', 'F...   \n",
       "\n",
       "                                             article  \n",
       "0  [Tamara, Funiciello, JusoPräsidentin, Zielsche...  \n",
       "1  [aktuell, Kriminalstatistik, zeigen, deutlich,...  \n",
       "2  [Tatort, Mehrfamilienhaus, Zürich, Wipkingen, ...  \n",
       "3  [KlimastreikBewegung, feiern, Erdrutschsieg, Ö...  \n",
       "4  [Parteipräsidenten, Konrad, Langhart, SVP, lin...  "
      ]
     },
     "metadata": {},
     "output_type": "display_data"
    },
    {
     "data": {
      "text/plain": [
       "(1080, 6)"
      ]
     },
     "metadata": {},
     "output_type": "display_data"
    }
   ],
   "source": [
    "display(data_reduced.head())\n",
    "display(data_reduced.shape)\n",
    "# the articles look alright now\n",
    "# and in total 1080 articles"
   ]
  },
  {
   "cell_type": "code",
   "execution_count": 137,
   "metadata": {},
   "outputs": [
    {
     "name": "stdout",
     "output_type": "stream",
     "text": [
      "[nltk_data] Downloading package stopwords to\n",
      "[nltk_data]     C:\\Users\\gwehrm\\AppData\\Roaming\\nltk_data...\n",
      "[nltk_data]   Package stopwords is already up-to-date!\n"
     ]
    },
    {
     "data": {
      "text/plain": [
       "True"
      ]
     },
     "execution_count": 137,
     "metadata": {},
     "output_type": "execute_result"
    }
   ],
   "source": [
    "#dowloading the stopwords\n",
    "import nltk\n",
    "nltk.download('stopwords')"
   ]
  },
  {
   "cell_type": "code",
   "execution_count": 138,
   "metadata": {},
   "outputs": [],
   "source": [
    "from nltk.corpus import stopwords"
   ]
  },
  {
   "cell_type": "code",
   "execution_count": 139,
   "metadata": {},
   "outputs": [],
   "source": [
    "# read in the dowloaded corpus to train the tagger\n",
    "corp = nltk.corpus.ConllCorpusReader('C:\\\\Users\\\\gwehrm\\\\Documents', 'tiger_release_aug07.corrected.16012013.conll09',\n",
    "                                     ['ignore', 'words', 'ignore', 'ignore', 'pos'],\n",
    "                                     encoding='utf-8')\n",
    "\n",
    "tagged_sents = list(corp.tagged_sents())\n",
    "random.shuffle(tagged_sents)\n",
    "\n",
    "# set a split size: use 90% for training, 10% for testing\n",
    "split_perc = 0.1\n",
    "split_size = int(len(tagged_sents) * split_perc)\n",
    "train_sents, test_sents = tagged_sents[split_size:], tagged_sents[:split_size]\n",
    "\n",
    "# from ClassifierBasedGermanTagger\n",
    "#train the classifier ()\n",
    "tagger = cl.ClassifierBasedGermanTagger(train=train_sents)\n",
    "\n",
    "from germalemma import GermaLemma\n",
    "lemmatizer = GermaLemma()\n",
    "\n",
    "accuracy = tagger.evaluate(test_sents)"
   ]
  },
  {
   "cell_type": "code",
   "execution_count": 140,
   "metadata": {},
   "outputs": [
    {
     "data": {
      "text/plain": [
       "0.9394582813746307"
      ]
     },
     "metadata": {},
     "output_type": "display_data"
    }
   ],
   "source": [
    "#the accuracy of the trained tagger (it was trained on the tiger corpus)\n",
    "display(accuracy)"
   ]
  },
  {
   "cell_type": "code",
   "execution_count": 141,
   "metadata": {
    "scrolled": true
   },
   "outputs": [
    {
     "name": "stderr",
     "output_type": "stream",
     "text": [
      "C:\\ProgramData\\Anaconda3\\lib\\site-packages\\ipykernel_launcher.py:3: SettingWithCopyWarning: \n",
      "A value is trying to be set on a copy of a slice from a DataFrame\n",
      "\n",
      "See the caveats in the documentation: http://pandas.pydata.org/pandas-docs/stable/indexing.html#indexing-view-versus-copy\n",
      "  This is separate from the ipykernel package so we can avoid doing imports until\n"
     ]
    }
   ],
   "source": [
    "# in a list comprehension, first tag the word correctly and remove if it is a german stopword\n",
    "for index,article in enumerate(data_reduced[\"article\"]):\n",
    "    data_reduced[\"article\"][index]= tagger.tag([word for word in article.split() if word.lower() not in stopwords.words('german')])"
   ]
  },
  {
   "cell_type": "code",
   "execution_count": 144,
   "metadata": {},
   "outputs": [
    {
     "data": {
      "text/plain": [
       "0    [(Tamara, NE), (Funiciello, NE), (JusoPräsiden...\n",
       "1    [(aktuelle, ADJA), (Kriminalstatistik, NN), (z...\n",
       "2    [(Tatort, NN), (Mehrfamilienhaus, NE), (Zürich...\n",
       "3    [(KlimastreikBewegung, NE), (feiert, VVFIN), (...\n",
       "4    [(Parteipräsidenten, NE), (Konrad, NE), (Langh...\n",
       "Name: article, dtype: object"
      ]
     },
     "metadata": {},
     "output_type": "display_data"
    }
   ],
   "source": [
    "display(data_reduced[\"article\"].head())\n",
    "# the data is now tagged."
   ]
  },
  {
   "cell_type": "code",
   "execution_count": 145,
   "metadata": {},
   "outputs": [],
   "source": [
    "# to get the stem of the word, lemmatization needs to be done for each word\n",
    "\n",
    "from germalemma import GermaLemma\n",
    "lemmatizer = GermaLemma()\n",
    "# passing the word and the POS tag \n",
    "for index, tos in enumerate(data_reduced[\"article\"]):\n",
    "    article_w=[]\n",
    "    for i in tos:\n",
    "        try:\n",
    "            word, N = i\n",
    "            lemma = lemmatizer.find_lemma(word,N)\n",
    "            article_w.append(lemma)\n",
    "        except ValueError:\n",
    "            continue\n",
    "    data_reduced.at[index,\"article\"] = article_w\n"
   ]
  },
  {
   "cell_type": "code",
   "execution_count": 147,
   "metadata": {},
   "outputs": [
    {
     "data": {
      "text/plain": [
       "0    [Tamara, Funiciello, JusoPräsidentin, Zielsche...\n",
       "1    [aktuell, Kriminalstatistik, zeigen, deutlich,...\n",
       "2    [Tatort, Mehrfamilienhaus, Zürich, Wipkingen, ...\n",
       "3    [KlimastreikBewegung, feiern, Erdrutschsieg, Ö...\n",
       "4    [Parteipräsidenten, Konrad, Langhart, SVP, lin...\n",
       "Name: article, dtype: object"
      ]
     },
     "execution_count": 147,
     "metadata": {},
     "output_type": "execute_result"
    }
   ],
   "source": [
    "data_reduced[\"article\"].head()\n",
    "# the artiles look fine now. they are "
   ]
  },
  {
   "cell_type": "code",
   "execution_count": 190,
   "metadata": {},
   "outputs": [
    {
     "data": {
      "text/plain": [
       "str"
      ]
     },
     "execution_count": 190,
     "metadata": {},
     "output_type": "execute_result"
    }
   ],
   "source": [
    "# write a csv to load the data directly\n",
    "# data_reduced.to_csv(\"tagged_articles.csv\")\n"
   ]
  },
  {
   "cell_type": "code",
   "execution_count": 264,
   "metadata": {},
   "outputs": [],
   "source": [
    "# Importing necessary libraries\n",
    "from sklearn.feature_extraction.text import CountVectorizer\n",
    "from sklearn.model_selection import train_test_split\n",
    "\n",
    "#define X and y: y has in this case two columns - the number of comments (for regression) and the author (classification)\n",
    "y = data_reduced[[\"nmbr_comments\", \"author\"]]\n",
    "\n",
    "# due to the tagging, the articles are a list. this transforms each article to a long string (needed for the bag of words)\n",
    "X = []\n",
    "for i in data_reduced[\"article\"]:\n",
    "    X.append(\" \".join(i))\n",
    "\n",
    "\n",
    "# split the data\n",
    "X_train, X_test, y_train, y_test = train_test_split(X, y\n",
    "                                   ,test_size=0.2, random_state=1234)\n",
    "\n",
    "\n",
    "# change them to arrays and divide between regression (comments) and classification (author)\n",
    "y_train = np.array(y_train).astype(int)\n",
    "y_test = np.array(y_test).astype(int)\n",
    "\n",
    "y_train_comments = y_train[:,0]\n",
    "y_test_comments  = y_test[:,0]\n",
    "\n",
    "# the authors ohe\n",
    "from keras.utils import to_categorical\n",
    "\n",
    "y_train_author = to_categorical(y_train[:,1])\n",
    "y_test_author = to_categorical(y_test[:,1])\n"
   ]
  },
  {
   "cell_type": "code",
   "execution_count": 265,
   "metadata": {},
   "outputs": [
    {
     "data": {
      "text/plain": [
       "(864, 58)"
      ]
     },
     "execution_count": 265,
     "metadata": {},
     "output_type": "execute_result"
    }
   ],
   "source": [
    "y_train_author.shape"
   ]
  },
  {
   "cell_type": "code",
   "execution_count": 159,
   "metadata": {},
   "outputs": [],
   "source": [
    "# defining the bag-of-words transformer on the text-processed corpus # i.e., text_process() declared in II is executed...\n",
    "bow_transformer=CountVectorizer(max_features = 2500).fit(X_train)\n",
    "# transforming into Bag-of-Words and hence textual data to numeric..\n",
    "text_bow_train=bow_transformer.transform(X_train).toarray()#ONLY TRAINING DATA\n",
    "\n",
    "# transforming into Bag-of-Words and hence textual data to numeric..\n",
    "text_bow_test=bow_transformer.transform(X_test).toarray()#TEST DATA"
   ]
  },
  {
   "cell_type": "code",
   "execution_count": 182,
   "metadata": {},
   "outputs": [
    {
     "data": {
      "text/plain": [
       "(864, 2500)"
      ]
     },
     "metadata": {},
     "output_type": "display_data"
    },
    {
     "data": {
      "text/plain": [
       "(216, 2500)"
      ]
     },
     "metadata": {},
     "output_type": "display_data"
    }
   ],
   "source": [
    "# shape of the x\n",
    "display(text_bow_train.shape)\n",
    "display(text_bow_test.shape)"
   ]
  },
  {
   "cell_type": "code",
   "execution_count": 266,
   "metadata": {},
   "outputs": [],
   "source": [
    "# Build the model with Keras\n",
    "from keras.layers import Input, Dense\n",
    "from keras.models import Model\n",
    "\n",
    "\n",
    "# Create an input layer with 2500 inputs\n",
    "input_tensor = Input((2500,))\n",
    "\n",
    "# Create the first output\n",
    "output_tensor_1 = Dense(1, activation=\"linear\", use_bias=False)(input_tensor)\n",
    "\n",
    "# Create the second output (use the first output and the input tensor as input)\n",
    "output_tensor_2 = Dense(58, activation=\"sigmoid\", use_bias=False)(output_tensor_1)\n",
    "\n",
    "# Create a model with 2 outputs\n",
    "model = Model(input_tensor, [output_tensor_1,output_tensor_2])"
   ]
  },
  {
   "cell_type": "code",
   "execution_count": 274,
   "metadata": {},
   "outputs": [
    {
     "name": "stdout",
     "output_type": "stream",
     "text": [
      "Epoch 1/50\n",
      "864/864 [==============================] - 0s 229us/step - loss: 7.3624 - dense_22_loss: 5.1568 - dense_23_loss: 2.2740\n",
      "Epoch 2/50\n",
      "864/864 [==============================] - 0s 53us/step - loss: 7.5975 - dense_22_loss: 5.4372 - dense_23_loss: 2.2720\n",
      "Epoch 3/50\n",
      "864/864 [==============================] - 0s 47us/step - loss: 7.4154 - dense_22_loss: 4.9665 - dense_23_loss: 2.2675\n",
      "Epoch 4/50\n",
      "864/864 [==============================] - 0s 52us/step - loss: 7.3162 - dense_22_loss: 4.9525 - dense_23_loss: 2.2619\n",
      "Epoch 5/50\n",
      "864/864 [==============================] - 0s 47us/step - loss: 7.2658 - dense_22_loss: 4.8793 - dense_23_loss: 2.2621\n",
      "Epoch 6/50\n",
      "864/864 [==============================] - 0s 48us/step - loss: 7.2754 - dense_22_loss: 4.8315 - dense_23_loss: 2.2699\n",
      "Epoch 7/50\n",
      "864/864 [==============================] - 0s 53us/step - loss: 7.2433 - dense_22_loss: 5.3822 - dense_23_loss: 2.2651\n",
      "Epoch 8/50\n",
      "864/864 [==============================] - 0s 57us/step - loss: 7.1873 - dense_22_loss: 5.3081 - dense_23_loss: 2.2663\n",
      "Epoch 9/50\n",
      "864/864 [==============================] - 0s 47us/step - loss: 7.1639 - dense_22_loss: 5.3596 - dense_23_loss: 2.2732\n",
      "Epoch 10/50\n",
      "864/864 [==============================] - 0s 48us/step - loss: 7.1395 - dense_22_loss: 4.7601 - dense_23_loss: 2.2641\n",
      "Epoch 11/50\n",
      "864/864 [==============================] - 0s 51us/step - loss: 7.1884 - dense_22_loss: 4.8978 - dense_23_loss: 2.2550\n",
      "Epoch 12/50\n",
      "864/864 [==============================] - 0s 48us/step - loss: 7.1587 - dense_22_loss: 4.7217 - dense_23_loss: 2.2612\n",
      "Epoch 13/50\n",
      "864/864 [==============================] - 0s 54us/step - loss: 7.1414 - dense_22_loss: 5.2137 - dense_23_loss: 2.2609\n",
      "Epoch 14/50\n",
      "864/864 [==============================] - 0s 59us/step - loss: 7.1341 - dense_22_loss: 4.7318 - dense_23_loss: 2.2713\n",
      "Epoch 15/50\n",
      "864/864 [==============================] - 0s 57us/step - loss: 7.0682 - dense_22_loss: 4.6790 - dense_23_loss: 2.2689\n",
      "Epoch 16/50\n",
      "864/864 [==============================] - 0s 47us/step - loss: 7.0001 - dense_22_loss: 4.6493 - dense_23_loss: 2.2533\n",
      "Epoch 17/50\n",
      "864/864 [==============================] - 0s 54us/step - loss: 7.0265 - dense_22_loss: 4.6312 - dense_23_loss: 2.2480\n",
      "Epoch 18/50\n",
      "864/864 [==============================] - 0s 52us/step - loss: 7.0164 - dense_22_loss: 4.7238 - dense_23_loss: 2.2491\n",
      "Epoch 19/50\n",
      "864/864 [==============================] - 0s 52us/step - loss: 7.0174 - dense_22_loss: 5.2449 - dense_23_loss: 2.2630\n",
      "Epoch 20/50\n",
      "864/864 [==============================] - 0s 53us/step - loss: 6.9476 - dense_22_loss: 5.0287 - dense_23_loss: 2.2689\n",
      "Epoch 21/50\n",
      "864/864 [==============================] - 0s 54us/step - loss: 6.9396 - dense_22_loss: 4.5914 - dense_23_loss: 2.2573\n",
      "Epoch 22/50\n",
      "864/864 [==============================] - 0s 54us/step - loss: 6.8816 - dense_22_loss: 4.4669 - dense_23_loss: 2.2508\n",
      "Epoch 23/50\n",
      "864/864 [==============================] - 0s 54us/step - loss: 6.8980 - dense_22_loss: 4.4894 - dense_23_loss: 2.2711\n",
      "Epoch 24/50\n",
      "864/864 [==============================] - 0s 69us/step - loss: 6.9647 - dense_22_loss: 4.5292 - dense_23_loss: 2.2709\n",
      "Epoch 25/50\n",
      "864/864 [==============================] - 0s 65us/step - loss: 6.8419 - dense_22_loss: 5.1511 - dense_23_loss: 2.2759\n",
      "Epoch 26/50\n",
      "864/864 [==============================] - 0s 63us/step - loss: 6.8450 - dense_22_loss: 4.4667 - dense_23_loss: 2.2658\n",
      "Epoch 27/50\n",
      "864/864 [==============================] - 0s 72us/step - loss: 6.8505 - dense_22_loss: 4.4265 - dense_23_loss: 2.2615\n",
      "Epoch 28/50\n",
      "864/864 [==============================] - 0s 62us/step - loss: 6.8123 - dense_22_loss: 4.3940 - dense_23_loss: 2.2608\n",
      "Epoch 29/50\n",
      "864/864 [==============================] - 0s 61us/step - loss: 6.8289 - dense_22_loss: 4.8782 - dense_23_loss: 2.2742\n",
      "Epoch 30/50\n",
      "864/864 [==============================] - 0s 63us/step - loss: 6.7050 - dense_22_loss: 4.6400 - dense_23_loss: 2.2630\n",
      "Epoch 31/50\n",
      "864/864 [==============================] - 0s 62us/step - loss: 6.7122 - dense_22_loss: 4.3088 - dense_23_loss: 2.2646\n",
      "Epoch 32/50\n",
      "864/864 [==============================] - 0s 58us/step - loss: 6.7378 - dense_22_loss: 4.3265 - dense_23_loss: 2.2632\n",
      "Epoch 33/50\n",
      "864/864 [==============================] - 0s 59us/step - loss: 6.8057 - dense_22_loss: 4.3883 - dense_23_loss: 2.2554\n",
      "Epoch 34/50\n",
      "864/864 [==============================] - 0s 53us/step - loss: 6.7690 - dense_22_loss: 4.3346 - dense_23_loss: 2.2867\n",
      "Epoch 35/50\n",
      "864/864 [==============================] - 0s 45us/step - loss: 6.7424 - dense_22_loss: 4.3425 - dense_23_loss: 2.2773\n",
      "Epoch 36/50\n",
      "864/864 [==============================] - 0s 47us/step - loss: 6.7468 - dense_22_loss: 4.4013 - dense_23_loss: 2.2734\n",
      "Epoch 37/50\n",
      "864/864 [==============================] - 0s 48us/step - loss: 6.6824 - dense_22_loss: 4.3131 - dense_23_loss: 2.2719\n",
      "Epoch 38/50\n",
      "864/864 [==============================] - 0s 57us/step - loss: 6.6414 - dense_22_loss: 4.2588 - dense_23_loss: 2.2785\n",
      "Epoch 39/50\n",
      "864/864 [==============================] - 0s 59us/step - loss: 6.6211 - dense_22_loss: 4.1989 - dense_23_loss: 2.2701\n",
      "Epoch 40/50\n",
      "864/864 [==============================] - 0s 62us/step - loss: 6.5885 - dense_22_loss: 4.1950 - dense_23_loss: 2.2704\n",
      "Epoch 41/50\n",
      "864/864 [==============================] - 0s 61us/step - loss: 6.5374 - dense_22_loss: 4.1323 - dense_23_loss: 2.2711\n",
      "Epoch 42/50\n",
      "864/864 [==============================] - 0s 66us/step - loss: 6.5169 - dense_22_loss: 4.5423 - dense_23_loss: 2.2622\n",
      "Epoch 43/50\n",
      "864/864 [==============================] - 0s 58us/step - loss: 6.5451 - dense_22_loss: 4.1318 - dense_23_loss: 2.2793\n",
      "Epoch 44/50\n",
      "864/864 [==============================] - 0s 59us/step - loss: 6.6267 - dense_22_loss: 4.3947 - dense_23_loss: 2.2806\n",
      "Epoch 45/50\n",
      "864/864 [==============================] - 0s 53us/step - loss: 6.5953 - dense_22_loss: 4.1954 - dense_23_loss: 2.2757\n",
      "Epoch 46/50\n",
      "864/864 [==============================] - 0s 46us/step - loss: 6.4503 - dense_22_loss: 4.4389 - dense_23_loss: 2.2754\n",
      "Epoch 47/50\n",
      "864/864 [==============================] - 0s 52us/step - loss: 6.4497 - dense_22_loss: 4.0566 - dense_23_loss: 2.2744\n",
      "Epoch 48/50\n",
      "864/864 [==============================] - 0s 52us/step - loss: 6.4103 - dense_22_loss: 4.0724 - dense_23_loss: 2.2785\n",
      "Epoch 49/50\n",
      "864/864 [==============================] - 0s 54us/step - loss: 6.4177 - dense_22_loss: 4.0194 - dense_23_loss: 2.2829\n",
      "Epoch 50/50\n",
      "864/864 [==============================] - 0s 55us/step - loss: 6.4441 - dense_22_loss: 4.2913 - dense_23_loss: 2.2817\n"
     ]
    },
    {
     "data": {
      "text/plain": [
       "<keras.callbacks.callbacks.History at 0x1dcb960b908>"
      ]
     },
     "execution_count": 274,
     "metadata": {},
     "output_type": "execute_result"
    }
   ],
   "source": [
    "# Import the Adam optimizer\n",
    "from keras.optimizers import Adam\n",
    "\n",
    "# Compile the model with 2 losses and the Adam optimzer with a higher learning rate\n",
    "model.compile(loss=['mean_absolute_error', 'categorical_crossentropy'], optimizer= Adam(lr=0.01),) #categorical crossentropy for multiclass\n",
    "\n",
    "# Fit the model to the tournament training data, with 2 inputs and 2 outputs\n",
    "model.fit(text_bow_train,\n",
    "          [y_train_comments,y_train_author],\n",
    "          epochs=50,\n",
    "          verbose=True,\n",
    "          batch_size=50)"
   ]
  },
  {
   "cell_type": "code",
   "execution_count": 279,
   "metadata": {},
   "outputs": [
    {
     "data": {
      "text/plain": [
       "'RMSE: 84.5158144699689'"
      ]
     },
     "metadata": {},
     "output_type": "display_data"
    },
    {
     "data": {
      "image/png": "[encoded data removed]",
      "text/plain": [
       "<Figure size 432x288 with 1 Axes>"
      ]
     },
     "metadata": {},
     "output_type": "display_data"
    }
   ],
   "source": [
    "# Importing necessary libraries\n",
    "from sklearn.metrics import classification_report\n",
    " \n",
    "# getting the predictions of the Validation Set...\n",
    "predictions = model.predict(text_bow_test)\n",
    "# it returns a list with the regression [0] and the classification [1]\n",
    "plt.scatter(predictions[0],y_test_comments)\n",
    "\n",
    "# rmse\n",
    "rmse = np.sqrt(np.mean((predictions[0]-y_test_comments)**2))\n",
    "display(f\"RMSE: {rmse}\")"
   ]
  },
  {
   "cell_type": "code",
   "execution_count": 269,
   "metadata": {},
   "outputs": [
    {
     "data": {
      "text/plain": [
       "array([ 25, 144,  36,  59, 234,  22,  23,   9, 105, 263, 140,   1,  91,\n",
       "        23,  42,  73,  16,  38,  36,  20, 100,  26,  77,  38,  86,  46,\n",
       "        28, 116,  67, 109,  32,  59, 103,  40,  76, 131,  10,  19,  64,\n",
       "        39,  66, 212, 103,  90,  21,   5,  65,  12,  36,  48,  63,  63,\n",
       "        74,   4,  74,  18,  29,  10,  18,  95,  11,  89,  51, 131,  10,\n",
       "        65, 190, 103,  48,  36,  32,  17,   1,  62, 149,  17,  21,   3,\n",
       "         9,   7,  68, 207,  56, 158,  19,  12,  83, 174,  79, 121,  29,\n",
       "         0, 110,  59,  59,  12,  92,   6,  22,  20,   6, 147,  41,   6,\n",
       "       114, 146, 159,  22,  34,   5, 116,  47, 123,  52, 109, 131, 150,\n",
       "       302,  29, 132, 149,  94,  48,  21,  37,  71,   9,  29,  83, 180,\n",
       "        19,  27,  89, 110,  10,  69,   5, 174, 178, 209,  92,  28, 246,\n",
       "       158,  78,  23, 153,   9,  15, 201,  73,  26,  19,  93,  52,  89,\n",
       "        80,  24,  93,   0,  90,  49, 130,  64,  49,  13,  65,  48,  89,\n",
       "        10,  21, 130,   4,  48,  53,  39, 161,  20,  22,  46,   8, 170,\n",
       "       233,  90, 136,  84,  29, 363, 122,  25, 122,  97, 157, 168, 122,\n",
       "        15, 199,  24,  68,  14,   8,  93,  82,  11,  14,  39, 152,  23,\n",
       "        56,  11, 132,  57,  12,  57,   8, 101])"
      ]
     },
     "execution_count": 269,
     "metadata": {},
     "output_type": "execute_result"
    }
   ],
   "source": []
  }
 ],
 "metadata": {
  "kernelspec": {
   "display_name": "Python 3",
   "language": "python",
   "name": "python3"
  },
  "language_info": {
   "codemirror_mode": {
    "name": "ipython",
    "version": 3
   },
   "file_extension": ".py",
   "mimetype": "text/x-python",
   "name": "python",
   "nbconvert_exporter": "python",
   "pygments_lexer": "ipython3",
   "version": "3.6.5"
  }
 },
 "nbformat": 4,
 "nbformat_minor": 2
}
