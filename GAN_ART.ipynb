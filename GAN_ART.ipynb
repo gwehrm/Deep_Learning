{
  "nbformat": 4,
  "nbformat_minor": 0,
  "metadata": {
    "colab": {
      "name": "GAN_ART.ipynb",
      "provenance": [],
      "collapsed_sections": [],
      "machine_shape": "hm",
      "include_colab_link": true
    },
    "kernelspec": {
      "name": "python3",
      "display_name": "Python 3"
    },
    "accelerator": "GPU"
  },
  "cells": [
    {
      "cell_type": "markdown",
      "metadata": {
        "id": "view-in-github",
        "colab_type": "text"
      },
      "source": [
        "<a href=\"https://colab.research.google.com/github/gwehrm/deep_learning/blob/master/GAN_ART.ipynb\" target=\"_parent\"><img src=\"https://colab.research.google.com/assets/colab-badge.svg\" alt=\"Open In Colab\"/></a>"
      ]
    },
    {
      "cell_type": "markdown",
      "metadata": {
        "id": "9GsbYujPUFav",
        "colab_type": "text"
      },
      "source": [
        "Code from: \n",
        "https://github.com/jeffheaton/t81_558_deep_learning/blob/master/t81_558_class_07_2_Keras_gan.ipynb"
      ]
    },
    {
      "cell_type": "code",
      "metadata": {
        "id": "sCbXzQad7MgU",
        "colab_type": "code",
        "outputId": "6da01f95-be5c-4c62-b8e1-c3df71eb85c6",
        "colab": {
          "base_uri": "https://localhost:8080/",
          "height": 156
        }
      },
      "source": [
        "try:\n",
        "    from google.colab import drive\n",
        "    drive.mount('/content/drive', force_remount=True)\n",
        "    COLAB = True\n",
        "    print(\"Note: using Google CoLab\")\n",
        "    %tensorflow_version 2.x\n",
        "except:\n",
        "    print(\"Note: not using Google CoLab\")\n",
        "    COLAB = True"
      ],
      "execution_count": 0,
      "outputs": [
        {
          "output_type": "stream",
          "text": [
            "Go to this URL in a browser: https://accounts.google.com/o/oauth2/auth?client_id=947318989803-6bn6qk8qdgf4n4g3pfee6491hc0brc4i.apps.googleusercontent.com&redirect_uri=urn%3aietf%3awg%3aoauth%3a2.0%3aoob&response_type=code&scope=email%20https%3a%2f%2fwww.googleapis.com%2fauth%2fdocs.test%20https%3a%2f%2fwww.googleapis.com%2fauth%2fdrive%20https%3a%2f%2fwww.googleapis.com%2fauth%2fdrive.photos.readonly%20https%3a%2f%2fwww.googleapis.com%2fauth%2fpeopleapi.readonly\n",
            "\n",
            "Enter your authorization code:\n",
            "··········\n",
            "Mounted at /content/drive\n",
            "Note: using Google CoLab\n",
            "TensorFlow 2.x selected.\n"
          ],
          "name": "stdout"
        }
      ]
    },
    {
      "cell_type": "code",
      "metadata": {
        "id": "sOBp6-lwK2bX",
        "colab_type": "code",
        "colab": {}
      },
      "source": [
        "# Nicely formatted time string\n",
        "def hms_string(sec_elapsed):\n",
        "    h = int(sec_elapsed / (60 * 60))\n",
        "    m = int((sec_elapsed % (60 * 60)) / 60)\n",
        "    s = sec_elapsed % 60\n",
        "    return \"{}:{:>02}:{:>05.2f}\".format(h, m, s)"
      ],
      "execution_count": 0,
      "outputs": []
    },
    {
      "cell_type": "code",
      "metadata": {
        "id": "VzDoIrkE7kWv",
        "colab_type": "code",
        "colab": {}
      },
      "source": [
        "\n",
        "import tensorflow as tf\n",
        "from tensorflow.keras.layers import Input, Reshape, Dropout, Dense, Flatten, BatchNormalization, Activation, ZeroPadding2D\n",
        "from tensorflow.keras.layers import LeakyReLU\n",
        "from tensorflow.keras.layers import UpSampling2D, Conv2D\n",
        "from tensorflow.keras.models import Sequential, Model, load_model\n",
        "from tensorflow.keras.optimizers import Adam\n",
        "import numpy as np\n",
        "from PIL import Image\n",
        "from tqdm import tqdm\n",
        "import os \n",
        "import time\n",
        "import matplotlib.pyplot as plt"
      ],
      "execution_count": 0,
      "outputs": []
    },
    {
      "cell_type": "code",
      "metadata": {
        "id": "IkYv5AeJ7sb1",
        "colab_type": "code",
        "colab": {}
      },
      "source": [
        ""
      ],
      "execution_count": 0,
      "outputs": []
    },
    {
      "cell_type": "markdown",
      "metadata": {
        "id": "5P0bKIhA7xOj",
        "colab_type": "text"
      },
      "source": [
        ""
      ]
    },
    {
      "cell_type": "code",
      "metadata": {
        "id": "_PRSO25z7x14",
        "colab_type": "code",
        "outputId": "cbf36c8d-f0ce-45fb-9670-b59e758ff26d",
        "colab": {
          "base_uri": "https://localhost:8080/",
          "height": 34
        }
      },
      "source": [
        "\n",
        "# Generation resolution - Must be square \n",
        "# Training data is also scaled to this.\n",
        "# Note GENERATE_RES 4 or higher  will blow Google CoLab's memory and have not\n",
        "# been tested extensivly.\n",
        "GENERATE_RES = 4 # Generation resolution factor (1=32, 2=64, 3=96, 4=128, etc.)\n",
        "GENERATE_SQUARE = 32 * GENERATE_RES # rows/cols (should be square)\n",
        "IMAGE_CHANNELS = 3\n",
        "\n",
        "# Preview image \n",
        "PREVIEW_ROWS = 4\n",
        "PREVIEW_COLS = 7\n",
        "PREVIEW_MARGIN = 16\n",
        "\n",
        "# Size vector to generate images from\n",
        "SEED_SIZE = 100\n",
        "\n",
        "# Configuration\n",
        "DATA_PATH = '/content/drive/My Drive/Colab Notebooks/paintings'\n",
        "EPOCHS = 150\n",
        "BATCH_SIZE = 128\n",
        "BUFFER_SIZE = 60000\n",
        "\n",
        "print(f\"Will generate {GENERATE_SQUARE}px square images.\")"
      ],
      "execution_count": 0,
      "outputs": [
        {
          "output_type": "stream",
          "text": [
            "Will generate 128px square images.\n"
          ],
          "name": "stdout"
        }
      ]
    },
    {
      "cell_type": "code",
      "metadata": {
        "id": "xymR1j3IDaxj",
        "colab_type": "code",
        "outputId": "7f2bf7de-bbf7-4b0f-8905-144f07c68edc",
        "colab": {
          "base_uri": "https://localhost:8080/",
          "height": 51
        }
      },
      "source": [
        "\n",
        "# Image set has 11,682 images.  Can take over an hour for initial preprocessing.\n",
        "# Because of this time needed, save a Numpy preprocessed file.\n",
        "# Note, that file is large enough to cause problems for sume verisons of Pickle,\n",
        "# so Numpy binary files are used.\n",
        "training_binary_path = os.path.join(DATA_PATH,f'training_data_{GENERATE_SQUARE}_{GENERATE_SQUARE}.npy')\n",
        "\n",
        "print(f\"Looking for file: {training_binary_path}\")\n",
        "\n",
        "if not os.path.isfile(training_binary_path):\n",
        "  start = time.time()\n",
        "  print(\"Loading training images...\")\n",
        "\n",
        "  training_data = []\n",
        "  faces_path = os.path.join(DATA_PATH,'resized')\n",
        "  for filename in tqdm(os.listdir(faces_path)):\n",
        "      path = os.path.join(faces_path,filename)\n",
        "      image = Image.open(path).resize((GENERATE_SQUARE,GENERATE_SQUARE),Image.ANTIALIAS)\n",
        "      training_data.append(np.asarray(image))\n",
        "  training_data = np.reshape(training_data,(-1,GENERATE_SQUARE,GENERATE_SQUARE,IMAGE_CHANNELS))\n",
        "  training_data = training_data.astype(np.float32)\n",
        "  training_data = training_data / 127.5 - 1.\n",
        "\n",
        "\n",
        "  print(\"Saving training image binary...\")\n",
        "  np.save(training_binary_path,training_data)\n",
        "  elapsed = time.time()-start\n",
        "  print (f'Image preprocess time: {hms_string(elapsed)}')\n",
        "else:\n",
        "  print(\"Loading previous training pickle...\")\n",
        "  training_data = np.load(training_binary_path)"
      ],
      "execution_count": 0,
      "outputs": [
        {
          "output_type": "stream",
          "text": [
            "Looking for file: /content/drive/My Drive/Colab Notebooks/paintings/training_data_128_128.npy\n",
            "Loading previous training pickle...\n"
          ],
          "name": "stdout"
        }
      ]
    },
    {
      "cell_type": "code",
      "metadata": {
        "id": "VZNM02FOJ9Cp",
        "colab_type": "code",
        "colab": {}
      },
      "source": [
        "# Batch and shuffle the data\n",
        "train_dataset = tf.data.Dataset.from_tensor_slices(training_data).shuffle(BUFFER_SIZE).batch(BATCH_SIZE)"
      ],
      "execution_count": 0,
      "outputs": []
    },
    {
      "cell_type": "code",
      "metadata": {
        "id": "iiAfELI6855R",
        "colab_type": "code",
        "colab": {}
      },
      "source": [
        "def build_generator(seed_size, channels):\n",
        "    model = Sequential()\n",
        "\n",
        "    model.add(Dense(4*4*256,activation=\"relu\",input_dim=seed_size))\n",
        "    model.add(Reshape((4,4,256)))\n",
        "\n",
        "    model.add(UpSampling2D())\n",
        "    model.add(Conv2D(256,kernel_size=3,padding=\"same\"))\n",
        "    model.add(BatchNormalization(momentum=0.8))\n",
        "    model.add(Activation(\"relu\"))\n",
        "\n",
        "    model.add(UpSampling2D())\n",
        "    model.add(Conv2D(256,kernel_size=3,padding=\"same\"))\n",
        "    model.add(BatchNormalization(momentum=0.8))\n",
        "    model.add(Activation(\"relu\"))\n",
        "   \n",
        "    # Output resolution, additional upsampling\n",
        "    model.add(UpSampling2D())\n",
        "    model.add(Conv2D(128,kernel_size=3,padding=\"same\"))\n",
        "    model.add(BatchNormalization(momentum=0.8))\n",
        "    model.add(Activation(\"relu\"))\n",
        "\n",
        "    if GENERATE_RES>1:\n",
        "      model.add(UpSampling2D(size=(GENERATE_RES,GENERATE_RES)))\n",
        "      model.add(Conv2D(128,kernel_size=3,padding=\"same\"))\n",
        "      model.add(BatchNormalization(momentum=0.8))\n",
        "      model.add(Activation(\"relu\"))\n",
        "\n",
        "    # Final CNN layer\n",
        "    model.add(Conv2D(channels,kernel_size=3,padding=\"same\"))\n",
        "    model.add(Activation(\"tanh\"))\n",
        "\n",
        "    return model\n",
        "\n",
        "\n",
        "def build_discriminator(image_shape):\n",
        "    model = Sequential()\n",
        "\n",
        "    model.add(Conv2D(32, kernel_size=3, strides=2, input_shape=image_shape, padding=\"same\"))\n",
        "    model.add(LeakyReLU(alpha=0.2))\n",
        "\n",
        "    model.add(Dropout(0.25))\n",
        "    model.add(Conv2D(64, kernel_size=3, strides=2, padding=\"same\"))\n",
        "    model.add(ZeroPadding2D(padding=((0,1),(0,1))))\n",
        "    model.add(BatchNormalization(momentum=0.8))\n",
        "    model.add(LeakyReLU(alpha=0.2))\n",
        "\n",
        "    model.add(Dropout(0.25))\n",
        "    model.add(Conv2D(128, kernel_size=3, strides=2, padding=\"same\"))\n",
        "    model.add(BatchNormalization(momentum=0.8))\n",
        "    model.add(LeakyReLU(alpha=0.2))\n",
        "\n",
        "    model.add(Dropout(0.25))\n",
        "    model.add(Conv2D(256, kernel_size=3, strides=1, padding=\"same\"))\n",
        "    model.add(BatchNormalization(momentum=0.8))\n",
        "    model.add(LeakyReLU(alpha=0.2))\n",
        "\n",
        "    model.add(Dropout(0.25))\n",
        "    model.add(Conv2D(512, kernel_size=3, strides=1, padding=\"same\"))\n",
        "    model.add(BatchNormalization(momentum=0.8))\n",
        "    model.add(LeakyReLU(alpha=0.2))\n",
        "\n",
        "    model.add(Dropout(0.25))\n",
        "    model.add(Flatten())\n",
        "    model.add(Dense(1, activation='sigmoid'))\n",
        "\n",
        "    return model"
      ],
      "execution_count": 0,
      "outputs": []
    },
    {
      "cell_type": "code",
      "metadata": {
        "id": "zdGAe_o1KQOe",
        "colab_type": "code",
        "colab": {}
      },
      "source": [
        "\n",
        "def save_images(cnt,noise):\n",
        "  image_array = np.full(( \n",
        "      PREVIEW_MARGIN + (PREVIEW_ROWS * (GENERATE_SQUARE+PREVIEW_MARGIN)), \n",
        "      PREVIEW_MARGIN + (PREVIEW_COLS * (GENERATE_SQUARE+PREVIEW_MARGIN)), 3), \n",
        "      255, dtype=np.uint8)\n",
        "  \n",
        "  generated_images = generator.predict(noise)\n",
        "\n",
        "  generated_images = 0.5 * generated_images + 0.5\n",
        "\n",
        "  image_count = 0\n",
        "  for row in range(PREVIEW_ROWS):\n",
        "      for col in range(PREVIEW_COLS):\n",
        "        r = row * (GENERATE_SQUARE+16) + PREVIEW_MARGIN\n",
        "        c = col * (GENERATE_SQUARE+16) + PREVIEW_MARGIN\n",
        "        image_array[r:r+GENERATE_SQUARE,c:c+GENERATE_SQUARE] = generated_images[image_count] * 255\n",
        "        image_count += 1\n",
        "\n",
        "          \n",
        "  output_path = os.path.join(DATA_PATH,'output')\n",
        "  if not os.path.exists(output_path):\n",
        "    os.makedirs(output_path)\n",
        "  \n",
        "  filename = os.path.join(output_path,f\"train-{cnt}.png\")\n",
        "  im = Image.fromarray(image_array)\n",
        "  im.save(filename)"
      ],
      "execution_count": 0,
      "outputs": []
    },
    {
      "cell_type": "code",
      "metadata": {
        "id": "RhDI0qEJKUBR",
        "colab_type": "code",
        "outputId": "83d55c61-903d-4ad7-dc0f-0eb26dd7995a",
        "colab": {
          "base_uri": "https://localhost:8080/",
          "height": 285
        }
      },
      "source": [
        "generator = build_generator(SEED_SIZE, IMAGE_CHANNELS)\n",
        "\n",
        "noise = tf.random.normal([1, SEED_SIZE])\n",
        "generated_image = generator(noise, training=False)\n",
        "\n",
        "plt.imshow(generated_image[0, :, :, 0])"
      ],
      "execution_count": 0,
      "outputs": [
        {
          "output_type": "execute_result",
          "data": {
            "text/plain": [
              "<matplotlib.image.AxesImage at 0x7fac70231c88>"
            ]
          },
          "metadata": {
            "tags": []
          },
          "execution_count": 9
        },
        {
          "output_type": "display_data",
          "data": {
            "image/png": "[encoded data removed]",
            "text/plain": [
              "<Figure size 432x288 with 1 Axes>"
            ]
          },
          "metadata": {
            "tags": []
          }
        }
      ]
    },
    {
      "cell_type": "code",
      "metadata": {
        "id": "KNMlFErTKYw2",
        "colab_type": "code",
        "outputId": "487752bc-4c90-4f77-e9f1-89dd0e62fc00",
        "colab": {
          "base_uri": "https://localhost:8080/",
          "height": 34
        }
      },
      "source": [
        "image_shape = (GENERATE_SQUARE,GENERATE_SQUARE,IMAGE_CHANNELS)\n",
        "\n",
        "discriminator = build_discriminator(image_shape)\n",
        "decision = discriminator(generated_image)\n",
        "print (decision)"
      ],
      "execution_count": 0,
      "outputs": [
        {
          "output_type": "stream",
          "text": [
            "tf.Tensor([[0.5005013]], shape=(1, 1), dtype=float32)\n"
          ],
          "name": "stdout"
        }
      ]
    },
    {
      "cell_type": "code",
      "metadata": {
        "id": "72V7dqTlKeLF",
        "colab_type": "code",
        "colab": {}
      },
      "source": [
        "# This method returns a helper function to compute cross entropy loss\n",
        "cross_entropy = tf.keras.losses.BinaryCrossentropy(from_logits=True)\n",
        "\n",
        "def discriminator_loss(real_output, fake_output):\n",
        "    real_loss = cross_entropy(tf.ones_like(real_output), real_output)\n",
        "    fake_loss = cross_entropy(tf.zeros_like(fake_output), fake_output)\n",
        "    total_loss = real_loss + fake_loss\n",
        "    return total_loss\n",
        "\n",
        "def generator_loss(fake_output):\n",
        "    return cross_entropy(tf.ones_like(fake_output), fake_output)"
      ],
      "execution_count": 0,
      "outputs": []
    },
    {
      "cell_type": "code",
      "metadata": {
        "id": "8TKQAHHOKiHM",
        "colab_type": "code",
        "colab": {}
      },
      "source": [
        "generator_optimizer = tf.keras.optimizers.Adam(1.5e-4,0.5)\n",
        "discriminator_optimizer = tf.keras.optimizers.Adam(1.5e-4,0.5)"
      ],
      "execution_count": 0,
      "outputs": []
    },
    {
      "cell_type": "code",
      "metadata": {
        "id": "6BU3mS5MKnGH",
        "colab_type": "code",
        "colab": {}
      },
      "source": [
        "# Notice the use of `tf.function`\n",
        "# This annotation causes the function to be \"compiled\".\n",
        "@tf.function\n",
        "def train_step(images):\n",
        "  seed = tf.random.normal([BATCH_SIZE, SEED_SIZE])\n",
        "\n",
        "  with tf.GradientTape() as gen_tape, tf.GradientTape() as disc_tape:\n",
        "    generated_images = generator(seed, training=True)\n",
        "\n",
        "    real_output = discriminator(images, training=True)\n",
        "    fake_output = discriminator(generated_images, training=True)\n",
        "\n",
        "    gen_loss = generator_loss(fake_output)\n",
        "    disc_loss = discriminator_loss(real_output, fake_output)\n",
        "    \n",
        "\n",
        "    gradients_of_generator = gen_tape.gradient(gen_loss, generator.trainable_variables)\n",
        "    gradients_of_discriminator = disc_tape.gradient(disc_loss, discriminator.trainable_variables)\n",
        "\n",
        "    generator_optimizer.apply_gradients(zip(gradients_of_generator, generator.trainable_variables))\n",
        "    discriminator_optimizer.apply_gradients(zip(gradients_of_discriminator, discriminator.trainable_variables))\n",
        "  return gen_loss,disc_loss"
      ],
      "execution_count": 0,
      "outputs": []
    },
    {
      "cell_type": "code",
      "metadata": {
        "id": "XJvFSeHiKsGK",
        "colab_type": "code",
        "colab": {}
      },
      "source": [
        "\n",
        "def train(dataset, epochs):\n",
        "  fixed_seed = np.random.normal(0, 1, (PREVIEW_ROWS * PREVIEW_COLS, SEED_SIZE))\n",
        "  start = time.time()\n",
        "\n",
        "  for epoch in range(epochs):\n",
        "    epoch_start = time.time()\n",
        "\n",
        "    gen_loss_list = []\n",
        "    disc_loss_list = []\n",
        "\n",
        "    for image_batch in dataset:\n",
        "      t = train_step(image_batch)\n",
        "      gen_loss_list.append(t[0])\n",
        "      disc_loss_list.append(t[1])\n",
        "\n",
        "    g_loss = sum(gen_loss_list) / len(gen_loss_list)\n",
        "    d_loss = sum(disc_loss_list) / len(disc_loss_list)\n",
        "\n",
        "    epoch_elapsed = time.time()-epoch_start\n",
        "    print (f'Epoch {epoch+1}, gen loss={g_loss},disc loss={d_loss}, {hms_string(epoch_elapsed)}')\n",
        "    save_images(epoch,fixed_seed)\n",
        "\n",
        "  elapsed = time.time()-start\n",
        "  print (f'Training time: {hms_string(elapsed)}')"
      ],
      "execution_count": 0,
      "outputs": []
    },
    {
      "cell_type": "code",
      "metadata": {
        "id": "RFQ3LCwSKv3P",
        "colab_type": "code",
        "outputId": "210d2b30-efb1-4faa-e14c-e4042aef344c",
        "colab": {
          "base_uri": "https://localhost:8080/",
          "height": 1000
        }
      },
      "source": [
        "train(train_dataset, EPOCHS)"
      ],
      "execution_count": 0,
      "outputs": [
        {
          "output_type": "stream",
          "text": [
            "Epoch 1, gen loss=0.6587424278259277,disc loss=1.1725512742996216, 0:00:25.13\n",
            "Epoch 2, gen loss=0.6766098737716675,disc loss=1.323028326034546, 0:00:19.02\n",
            "Epoch 3, gen loss=0.6931475400924683,disc loss=1.3862922191619873, 0:00:18.68\n",
            "Epoch 4, gen loss=0.6931475400924683,disc loss=1.3862919807434082, 0:00:19.04\n",
            "Epoch 5, gen loss=0.6931475400924683,disc loss=1.3862906694412231, 0:00:18.67\n",
            "Epoch 6, gen loss=0.6931475400924683,disc loss=1.3862868547439575, 0:00:18.64\n",
            "Epoch 7, gen loss=0.6931475400924683,disc loss=1.386290192604065, 0:00:18.66\n",
            "Epoch 8, gen loss=0.6931475400924683,disc loss=1.3862860202789307, 0:00:18.63\n",
            "Epoch 9, gen loss=0.6931475400924683,disc loss=1.3862860202789307, 0:00:18.65\n",
            "Epoch 10, gen loss=0.6931475400924683,disc loss=1.3862842321395874, 0:00:18.65\n",
            "Epoch 11, gen loss=0.6931475400924683,disc loss=1.3862740993499756, 0:00:18.65\n",
            "Epoch 12, gen loss=0.6931475400924683,disc loss=1.3801476955413818, 0:00:18.67\n",
            "Epoch 13, gen loss=0.6691533327102661,disc loss=1.2201589345932007, 0:00:18.66\n",
            "Epoch 14, gen loss=0.45590028166770935,disc loss=1.5536208152770996, 0:00:18.67\n",
            "Epoch 15, gen loss=0.3132617473602295,disc loss=1.6276041269302368, 0:00:18.67\n",
            "Epoch 16, gen loss=0.3132617473602295,disc loss=1.626988410949707, 0:00:18.66\n",
            "Epoch 17, gen loss=0.3132617473602295,disc loss=1.6266717910766602, 0:00:18.65\n",
            "Epoch 18, gen loss=0.3132617473602295,disc loss=1.6266008615493774, 0:00:18.66\n",
            "Epoch 19, gen loss=0.3132617473602295,disc loss=1.6265923976898193, 0:00:18.65\n",
            "Epoch 20, gen loss=0.3132617473602295,disc loss=1.6265907287597656, 0:00:18.65\n",
            "Epoch 21, gen loss=0.3132617473602295,disc loss=1.626592755317688, 0:00:18.64\n",
            "Epoch 22, gen loss=0.3132617473602295,disc loss=1.6265885829925537, 0:00:18.61\n",
            "Epoch 23, gen loss=0.3132617473602295,disc loss=1.626555323600769, 0:00:18.66\n",
            "Epoch 24, gen loss=0.3132617473602295,disc loss=1.6265318393707275, 0:00:18.64\n",
            "Epoch 25, gen loss=0.3132617473602295,disc loss=1.6265262365341187, 0:00:18.63\n",
            "Epoch 26, gen loss=0.3132617473602295,disc loss=1.626524567604065, 0:00:18.62\n",
            "Epoch 27, gen loss=0.3132617473602295,disc loss=1.626523494720459, 0:00:18.59\n",
            "Epoch 28, gen loss=0.3132617473602295,disc loss=1.6265233755111694, 0:00:18.60\n",
            "Epoch 29, gen loss=0.3132617473602295,disc loss=1.626523494720459, 0:00:18.60\n",
            "Epoch 30, gen loss=0.3132617473602295,disc loss=1.6265233755111694, 0:00:18.60\n",
            "Epoch 31, gen loss=0.3132617473602295,disc loss=1.6265233755111694, 0:00:18.59\n",
            "Epoch 32, gen loss=0.3132617473602295,disc loss=1.626523494720459, 0:00:18.62\n",
            "Epoch 33, gen loss=0.3132617473602295,disc loss=1.626527190208435, 0:00:18.58\n",
            "Epoch 34, gen loss=0.3132617473602295,disc loss=1.6265500783920288, 0:00:18.59\n",
            "Epoch 35, gen loss=0.3132617473602295,disc loss=1.6265231370925903, 0:00:18.61\n",
            "Epoch 36, gen loss=0.3132617473602295,disc loss=1.6265231370925903, 0:00:18.63\n",
            "Epoch 37, gen loss=0.3132617473602295,disc loss=1.6265233755111694, 0:00:18.59\n",
            "Epoch 38, gen loss=0.3132617473602295,disc loss=1.6265231370925903, 0:00:18.58\n",
            "Epoch 39, gen loss=0.3132617473602295,disc loss=1.6265231370925903, 0:00:18.59\n",
            "Epoch 40, gen loss=0.3132617473602295,disc loss=1.6265231370925903, 0:00:18.60\n",
            "Epoch 41, gen loss=0.3132617473602295,disc loss=1.6265231370925903, 0:00:18.58\n",
            "Epoch 42, gen loss=0.3132617473602295,disc loss=1.6265231370925903, 0:00:18.60\n",
            "Epoch 43, gen loss=0.3132617473602295,disc loss=1.6265231370925903, 0:00:18.59\n",
            "Epoch 44, gen loss=0.3132617473602295,disc loss=1.6265233755111694, 0:00:18.56\n",
            "Epoch 45, gen loss=0.3132617473602295,disc loss=1.6265233755111694, 0:00:18.58\n",
            "Epoch 46, gen loss=0.3132617473602295,disc loss=1.6265231370925903, 0:00:18.56\n",
            "Epoch 47, gen loss=0.3132617473602295,disc loss=1.6265231370925903, 0:00:18.53\n",
            "Epoch 48, gen loss=0.3132617473602295,disc loss=1.6265238523483276, 0:00:18.59\n",
            "Epoch 49, gen loss=0.3132617473602295,disc loss=1.6265231370925903, 0:00:18.56\n",
            "Epoch 50, gen loss=0.3132617473602295,disc loss=1.6265231370925903, 0:00:18.54\n",
            "Epoch 51, gen loss=0.3132617473602295,disc loss=1.6265231370925903, 0:00:18.53\n",
            "Epoch 52, gen loss=0.3132617473602295,disc loss=1.6265231370925903, 0:00:18.56\n",
            "Epoch 53, gen loss=0.3132617473602295,disc loss=1.626523494720459, 0:00:18.61\n",
            "Epoch 54, gen loss=0.3132617473602295,disc loss=1.6265231370925903, 0:00:18.55\n",
            "Epoch 55, gen loss=0.3132617473602295,disc loss=1.626524806022644, 0:00:18.53\n",
            "Epoch 56, gen loss=0.3132617473602295,disc loss=1.6265231370925903, 0:00:18.55\n",
            "Epoch 57, gen loss=0.3132617473602295,disc loss=1.6265231370925903, 0:00:18.54\n",
            "Epoch 58, gen loss=0.3132617473602295,disc loss=1.6265231370925903, 0:00:18.55\n",
            "Epoch 59, gen loss=0.3132617473602295,disc loss=1.6265233755111694, 0:00:18.55\n",
            "Epoch 60, gen loss=0.3132617473602295,disc loss=1.6265231370925903, 0:00:18.56\n",
            "Epoch 61, gen loss=0.3132617473602295,disc loss=1.6265231370925903, 0:00:18.55\n",
            "Epoch 62, gen loss=0.3132617473602295,disc loss=1.6265231370925903, 0:00:18.60\n",
            "Epoch 63, gen loss=0.3132617473602295,disc loss=1.6265231370925903, 0:00:18.54\n",
            "Epoch 64, gen loss=0.3132617473602295,disc loss=1.6265231370925903, 0:00:18.53\n",
            "Epoch 65, gen loss=0.3132617473602295,disc loss=1.6265231370925903, 0:00:18.54\n",
            "Epoch 66, gen loss=0.3132617473602295,disc loss=1.6265231370925903, 0:00:18.57\n",
            "Epoch 67, gen loss=0.3132617473602295,disc loss=1.6265231370925903, 0:00:18.56\n",
            "Epoch 68, gen loss=0.3132617473602295,disc loss=1.6265231370925903, 0:00:18.55\n",
            "Epoch 69, gen loss=0.3132617473602295,disc loss=1.6265231370925903, 0:00:18.53\n",
            "Epoch 70, gen loss=0.3132617473602295,disc loss=1.6265231370925903, 0:00:18.55\n",
            "Epoch 71, gen loss=0.3132617473602295,disc loss=1.6265231370925903, 0:00:18.54\n",
            "Epoch 72, gen loss=0.3132617473602295,disc loss=1.6265231370925903, 0:00:18.56\n",
            "Epoch 73, gen loss=0.3132617473602295,disc loss=1.6265231370925903, 0:00:18.56\n",
            "Epoch 74, gen loss=0.3132617473602295,disc loss=1.6265231370925903, 0:00:18.53\n",
            "Epoch 75, gen loss=0.3132617473602295,disc loss=1.6265231370925903, 0:00:18.55\n",
            "Epoch 76, gen loss=0.3132617473602295,disc loss=1.6265231370925903, 0:00:18.55\n",
            "Epoch 77, gen loss=0.3132617473602295,disc loss=1.6265231370925903, 0:00:18.54\n",
            "Epoch 78, gen loss=0.3132617473602295,disc loss=1.6265231370925903, 0:00:18.56\n",
            "Epoch 79, gen loss=0.3132617473602295,disc loss=1.6265231370925903, 0:00:18.54\n",
            "Epoch 80, gen loss=0.3132617473602295,disc loss=1.6265231370925903, 0:00:18.55\n",
            "Epoch 81, gen loss=0.3132617473602295,disc loss=1.6265231370925903, 0:00:18.58\n",
            "Epoch 82, gen loss=0.3132617473602295,disc loss=1.6265231370925903, 0:00:18.55\n",
            "Epoch 83, gen loss=0.3132617473602295,disc loss=1.6265231370925903, 0:00:18.56\n",
            "Epoch 84, gen loss=0.3132617473602295,disc loss=1.626524806022644, 0:00:18.57\n",
            "Epoch 85, gen loss=0.3132617473602295,disc loss=1.6265231370925903, 0:00:18.55\n",
            "Epoch 86, gen loss=0.3132617473602295,disc loss=1.6265231370925903, 0:00:18.59\n",
            "Epoch 87, gen loss=0.3132617473602295,disc loss=1.6265231370925903, 0:00:18.58\n",
            "Epoch 88, gen loss=0.3132617473602295,disc loss=1.6265231370925903, 0:00:18.54\n",
            "Epoch 89, gen loss=0.3132617473602295,disc loss=1.6265231370925903, 0:00:18.57\n",
            "Epoch 90, gen loss=0.3132617473602295,disc loss=1.6265231370925903, 0:00:18.56\n",
            "Epoch 91, gen loss=0.3132617473602295,disc loss=1.6265231370925903, 0:00:18.57\n",
            "Epoch 92, gen loss=0.3132617473602295,disc loss=1.6265231370925903, 0:00:18.57\n",
            "Epoch 93, gen loss=0.3132617473602295,disc loss=1.6265231370925903, 0:00:18.56\n",
            "Epoch 94, gen loss=0.3132617473602295,disc loss=1.6265231370925903, 0:00:18.56\n"
          ],
          "name": "stdout"
        }
      ]
    },
    {
      "cell_type": "code",
      "metadata": {
        "id": "k7YtQJwaY3tD",
        "colab_type": "code",
        "colab": {}
      },
      "source": [
        "generator.save(os.path.join(DATA_PATH,\"art_generator.h5\"))"
      ],
      "execution_count": 0,
      "outputs": []
    }
  ]
}